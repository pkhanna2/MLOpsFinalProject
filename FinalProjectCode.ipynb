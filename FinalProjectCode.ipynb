{
 "cells": [
  {
   "cell_type": "code",
   "execution_count": 2,
   "id": "be94b601-b490-459b-b13c-8dd08a542c3f",
   "metadata": {
    "tags": []
   },
   "outputs": [
    {
     "name": "stdout",
     "output_type": "stream",
     "text": [
      "\u001b[31mERROR: pip's dependency resolver does not currently take into account all the packages that are installed. This behaviour is the source of the following dependency conflicts.\n",
      "sagemaker-datawrangler 0.4.3 requires ipywidgets<8.0.0, but you have ipywidgets 8.1.2 which is incompatible.\n",
      "sagemaker-datawrangler 0.4.3 requires sagemaker-data-insights==0.4.0, but you have sagemaker-data-insights 0.3.3 which is incompatible.\u001b[0m\u001b[31m\n",
      "\u001b[0m\u001b[33mWARNING: Running pip as the 'root' user can result in broken permissions and conflicting behaviour with the system package manager. It is recommended to use a virtual environment instead: https://pip.pypa.io/warnings/venv\u001b[0m\u001b[33m\n",
      "\u001b[0m"
     ]
    }
   ],
   "source": [
    "!pip install --disable-pip-version-check -q awswrangler==2.14.0"
   ]
  },
  {
   "cell_type": "code",
   "execution_count": 3,
   "id": "1170aac4-e373-4a40-8274-7e642ac1ea73",
   "metadata": {
    "tags": []
   },
   "outputs": [
    {
     "name": "stdout",
     "output_type": "stream",
     "text": [
      "\u001b[33mWARNING: Running pip as the 'root' user can result in broken permissions and conflicting behaviour with the system package manager. It is recommended to use a virtual environment instead: https://pip.pypa.io/warnings/venv\u001b[0m\u001b[33m\n",
      "\u001b[0m"
     ]
    }
   ],
   "source": [
    "!pip install --disable-pip-version-check -q PyAthena==2.1.0"
   ]
  },
  {
   "cell_type": "code",
   "execution_count": 53,
   "id": "22f104fe-ad79-4b9a-9569-0099bfa3180b",
   "metadata": {
    "tags": []
   },
   "outputs": [],
   "source": [
    "import boto3\n",
    "import sagemaker\n",
    "from pyathena import connect\n",
    "\n",
    "import pandas as pd\n",
    "import numpy as np\n",
    "import pandas as pd\n",
    "import matplotlib.pyplot as plt\n",
    "import matplotlib.dates as mdates\n",
    "import matplotlib as cm\n",
    "import seaborn as sns\n",
    "import plotly.express as px\n",
    "\n",
    "from scipy import stats\n",
    "\n",
    "import io\n",
    "\n",
    "sess = sagemaker.Session()\n",
    "bucket = sess.default_bucket()\n",
    "role = sagemaker.get_execution_role()\n",
    "region = boto3.Session().region_name\n",
    "account_id = boto3.client(\"sts\").get_caller_identity().get(\"Account\")\n",
    "\n",
    "s3 = boto3.resource('s3')\n",
    "sm = boto3.Session().client(service_name=\"sagemaker\", region_name=region)\n",
    "s3_client = boto3.client(\"s3\", region_name=region)"
   ]
  },
  {
   "cell_type": "markdown",
   "id": "f23237ca-a99a-4e54-95e6-5cc2a80dbf3c",
   "metadata": {},
   "source": [
    "## Store Data into S3 Data Lake ##"
   ]
  },
  {
   "cell_type": "code",
   "execution_count": 5,
   "id": "edb4623d-329f-437f-93cd-7d00398dcd77",
   "metadata": {
    "tags": []
   },
   "outputs": [
    {
     "name": "stdout",
     "output_type": "stream",
     "text": [
      "/root/OlistEcommerce/ProjectDataset/\n"
     ]
    }
   ],
   "source": [
    "s3_source_path_csvs = \"/root/OlistEcommerce/ProjectDataset/\"\n",
    "print(s3_source_path_csvs)"
   ]
  },
  {
   "cell_type": "code",
   "execution_count": 6,
   "id": "4ca7c55c-e487-4ae0-aea4-277d31c1fd7b",
   "metadata": {
    "tags": []
   },
   "outputs": [
    {
     "name": "stdout",
     "output_type": "stream",
     "text": [
      "s3://sagemaker-us-east-1-757088774357/FinalProjectDataset/csv\n"
     ]
    }
   ],
   "source": [
    "s3_destination_path_csv = \"s3://{}/FinalProjectDataset/csv\".format(bucket)\n",
    "print(s3_destination_path_csv)"
   ]
  },
  {
   "cell_type": "code",
   "execution_count": 7,
   "id": "17012465-6f77-4ebb-a856-09df523c17a0",
   "metadata": {
    "tags": []
   },
   "outputs": [
    {
     "name": "stdout",
     "output_type": "stream",
     "text": [
      "upload: ProjectDataset/olist_order_payments_dataset.csv to s3://sagemaker-us-east-1-757088774357/FinalProjectDataset/csv/olist_order_payments_dataset.csv\n",
      "upload: ProjectDataset/olist_customers_dataset.csv to s3://sagemaker-us-east-1-757088774357/FinalProjectDataset/csv/olist_customers_dataset.csv\n",
      "upload: ProjectDataset/olist_products_dataset.csv to s3://sagemaker-us-east-1-757088774357/FinalProjectDataset/csv/olist_products_dataset.csv\n",
      "upload: ProjectDataset/olist_geolocation_dataset2.csv to s3://sagemaker-us-east-1-757088774357/FinalProjectDataset/csv/olist_geolocation_dataset2.csv\n",
      "upload: ProjectDataset/olist_sellers_dataset.csv to s3://sagemaker-us-east-1-757088774357/FinalProjectDataset/csv/olist_sellers_dataset.csv\n",
      "upload: ProjectDataset/product_category_name_translation.csv to s3://sagemaker-us-east-1-757088774357/FinalProjectDataset/csv/product_category_name_translation.csv\n",
      "upload: ProjectDataset/olist_geolocation_dataset1.csv to s3://sagemaker-us-east-1-757088774357/FinalProjectDataset/csv/olist_geolocation_dataset1.csv\n",
      "upload: ProjectDataset/olist_order_reviews_dataset.csv to s3://sagemaker-us-east-1-757088774357/FinalProjectDataset/csv/olist_order_reviews_dataset.csv\n",
      "upload: ProjectDataset/olist_order_items_dataset.csv to s3://sagemaker-us-east-1-757088774357/FinalProjectDataset/csv/olist_order_items_dataset.csv\n",
      "upload: ProjectDataset/olist_orders_dataset.csv to s3://sagemaker-us-east-1-757088774357/FinalProjectDataset/csv/olist_orders_dataset.csv\n"
     ]
    }
   ],
   "source": [
    "!aws s3 cp $s3_source_path_csvs $s3_destination_path_csv/ --recursive --exclude \"*\" --include \"*.csv\""
   ]
  },
  {
   "cell_type": "code",
   "execution_count": 8,
   "id": "c1b7f6d6-42e9-40f5-9565-9354f150179d",
   "metadata": {
    "tags": []
   },
   "outputs": [
    {
     "name": "stdout",
     "output_type": "stream",
     "text": [
      "                           PRE /\n",
      "2024-05-30 03:10:55    9033957 olist_customers_dataset.csv\n",
      "2024-05-30 03:10:55   23400724 olist_geolocation_dataset1.csv\n",
      "2024-05-30 03:10:55   23582346 olist_geolocation_dataset2.csv\n",
      "2024-05-30 03:10:55   15438671 olist_order_items_dataset.csv\n",
      "2024-05-30 03:10:55    5777138 olist_order_payments_dataset.csv\n",
      "2024-05-30 03:10:55   14451670 olist_order_reviews_dataset.csv\n",
      "2024-05-30 03:10:56   17654914 olist_orders_dataset.csv\n",
      "2024-05-30 03:10:56    2379446 olist_products_dataset.csv\n",
      "2024-05-30 03:10:56     174703 olist_sellers_dataset.csv\n",
      "2024-05-30 03:10:56       2613 product_category_name_translation.csv\n"
     ]
    }
   ],
   "source": [
    "# Confirm that all data was uploaded\n",
    "!aws s3 ls $s3_destination_path_csv/"
   ]
  },
  {
   "cell_type": "markdown",
   "id": "c5d16311-e774-4e7e-8325-fa9d2f323596",
   "metadata": {},
   "source": [
    "## Setup PyAthena ##"
   ]
  },
  {
   "cell_type": "code",
   "execution_count": 9,
   "id": "e131deb6-4e86-458f-9e49-877801324c76",
   "metadata": {
    "tags": []
   },
   "outputs": [],
   "source": [
    "db_name = \"olist_ecommerce_aws\""
   ]
  },
  {
   "cell_type": "code",
   "execution_count": 10,
   "id": "355a3c4a-419e-4d5e-a54c-c7a3c0b205d2",
   "metadata": {
    "tags": []
   },
   "outputs": [
    {
     "name": "stdout",
     "output_type": "stream",
     "text": [
      "s3://sagemaker-us-east-1-757088774357/athena/staging\n"
     ]
    }
   ],
   "source": [
    "s3_staging_dir = \"s3://{0}/athena/staging\".format(bucket)\n",
    "print(s3_staging_dir)"
   ]
  },
  {
   "cell_type": "code",
   "execution_count": 11,
   "id": "bd515113-47b3-4c47-a547-d79d44d05e34",
   "metadata": {
    "tags": []
   },
   "outputs": [],
   "source": [
    "# Establish Connection to Athena Staging Directory in S3\n",
    "conn = connect(region_name=region, s3_staging_dir=s3_staging_dir)"
   ]
  },
  {
   "cell_type": "code",
   "execution_count": 12,
   "id": "b7edd887-c6b7-4067-b2de-aa260b822b98",
   "metadata": {
    "tags": []
   },
   "outputs": [
    {
     "data": {
      "text/html": [
       "<div>\n",
       "<style scoped>\n",
       "    .dataframe tbody tr th:only-of-type {\n",
       "        vertical-align: middle;\n",
       "    }\n",
       "\n",
       "    .dataframe tbody tr th {\n",
       "        vertical-align: top;\n",
       "    }\n",
       "\n",
       "    .dataframe thead th {\n",
       "        text-align: right;\n",
       "    }\n",
       "</style>\n",
       "<table border=\"1\" class=\"dataframe\">\n",
       "  <thead>\n",
       "    <tr style=\"text-align: right;\">\n",
       "      <th></th>\n",
       "    </tr>\n",
       "  </thead>\n",
       "  <tbody>\n",
       "  </tbody>\n",
       "</table>\n",
       "</div>"
      ],
      "text/plain": [
       "Empty DataFrame\n",
       "Columns: []\n",
       "Index: []"
      ]
     },
     "execution_count": 12,
     "metadata": {},
     "output_type": "execute_result"
    }
   ],
   "source": [
    "# Create the Olist Ecommerce AWS DB if One Does not Exist\n",
    "statement = \"CREATE DATABASE IF NOT EXISTS {}\".format(db_name)\n",
    "pd.read_sql(statement, conn)"
   ]
  },
  {
   "cell_type": "code",
   "execution_count": 13,
   "id": "c85d162d-0cd6-4003-96c7-7f8b4af67088",
   "metadata": {
    "tags": []
   },
   "outputs": [
    {
     "data": {
      "text/html": [
       "<div>\n",
       "<style scoped>\n",
       "    .dataframe tbody tr th:only-of-type {\n",
       "        vertical-align: middle;\n",
       "    }\n",
       "\n",
       "    .dataframe tbody tr th {\n",
       "        vertical-align: top;\n",
       "    }\n",
       "\n",
       "    .dataframe thead th {\n",
       "        text-align: right;\n",
       "    }\n",
       "</style>\n",
       "<table border=\"1\" class=\"dataframe\">\n",
       "  <thead>\n",
       "    <tr style=\"text-align: right;\">\n",
       "      <th></th>\n",
       "      <th>database_name</th>\n",
       "    </tr>\n",
       "  </thead>\n",
       "  <tbody>\n",
       "    <tr>\n",
       "      <th>0</th>\n",
       "      <td>default</td>\n",
       "    </tr>\n",
       "    <tr>\n",
       "      <th>1</th>\n",
       "      <td>olist_ecommerce_aws</td>\n",
       "    </tr>\n",
       "    <tr>\n",
       "      <th>2</th>\n",
       "      <td>sagemaker_featurestore</td>\n",
       "    </tr>\n",
       "  </tbody>\n",
       "</table>\n",
       "</div>"
      ],
      "text/plain": [
       "            database_name\n",
       "0                 default\n",
       "1     olist_ecommerce_aws\n",
       "2  sagemaker_featurestore"
      ]
     },
     "execution_count": 13,
     "metadata": {},
     "output_type": "execute_result"
    }
   ],
   "source": [
    "# Ensure DB Now Exists or Already Existed\n",
    "statement = \"SHOW DATABASES\"\n",
    "df_show = pd.read_sql(statement, conn)\n",
    "df_show.head(5)"
   ]
  },
  {
   "cell_type": "markdown",
   "id": "3b9660a6-b345-4627-9c4e-c3b54bd68fcf",
   "metadata": {},
   "source": [
    "### Create Table in PyAthena ###"
   ]
  },
  {
   "cell_type": "code",
   "execution_count": 14,
   "id": "820617fb-71e0-4685-b3f6-f413e1dc6bb8",
   "metadata": {},
   "outputs": [],
   "source": [
    "### NOTE: Skipped for Now"
   ]
  },
  {
   "cell_type": "code",
   "execution_count": null,
   "id": "ef03f786-9ecc-4d14-81e1-3c49d5312921",
   "metadata": {},
   "outputs": [],
   "source": []
  },
  {
   "cell_type": "markdown",
   "id": "9b6f37f4-11f7-493e-a844-a200f5b764ce",
   "metadata": {},
   "source": [
    "## Perform EDA Using Data Lake ##"
   ]
  },
  {
   "cell_type": "code",
   "execution_count": 15,
   "id": "caed4592-16b7-47d2-bf50-a38609d12f52",
   "metadata": {
    "tags": []
   },
   "outputs": [
    {
     "name": "stdout",
     "output_type": "stream",
     "text": [
      "sagemaker-us-east-1-757088774357\n"
     ]
    }
   ],
   "source": [
    "print(bucket)"
   ]
  },
  {
   "cell_type": "code",
   "execution_count": 16,
   "id": "bb73c323-72fb-4f85-a622-76a1750e6e5e",
   "metadata": {
    "tags": []
   },
   "outputs": [],
   "source": [
    "customer_data_object = s3_client.get_object(Bucket=bucket, Key=\n",
    "    \"FinalProjectDataset/csv/olist_customers_dataset.csv\"\n",
    ")\n",
    "geolocation_data_object1 = s3_client.get_object(Bucket=bucket, Key=(\n",
    "    \"FinalProjectDataset/csv/olist_geolocation_dataset1.csv\"\n",
    "))\n",
    "geolocation_data_object2 = s3_client.get_object(Bucket=bucket, Key=(\n",
    "    \"FinalProjectDataset/csv/olist_geolocation_dataset2.csv\"\n",
    "))\n",
    "items_data_object = s3_client.get_object(Bucket=bucket, Key=(\n",
    "    \"FinalProjectDataset/csv/olist_order_items_dataset.csv\"\n",
    "))\n",
    "order_payments_data_object = s3_client.get_object(Bucket=bucket, Key=(\n",
    "    \"FinalProjectDataset/csv/olist_order_payments_dataset.csv\"\n",
    "))\n",
    "order_reviews_data_object = s3_client.get_object(Bucket=bucket, Key=(\n",
    "    \"FinalProjectDataset/csv/olist_order_reviews_dataset.csv\"\n",
    "))\n",
    "orders_data_object = s3_client.get_object(Bucket=bucket, Key=(\n",
    "    \"FinalProjectDataset/csv/olist_orders_dataset.csv\"\n",
    "))\n",
    "products_data_object = s3_client.get_object(Bucket=bucket, Key=(\n",
    "    \"FinalProjectDataset/csv/olist_products_dataset.csv\"\n",
    "))\n",
    "sellers_data_object = s3_client.get_object(Bucket=bucket, Key=(\n",
    "    \"FinalProjectDataset/csv/olist_sellers_dataset.csv\"\n",
    "))\n",
    "product_category_name_translation_data_object= s3_client.get_object(Bucket=bucket, Key=(\n",
    "    \"FinalProjectDataset/csv/product_category_name_translation.csv\"\n",
    "))\n",
    "\n",
    "customer_data = pd.read_csv(io.BytesIO(customer_data_object[\"Body\"].read()))\n",
    "geolocation_data1 = pd.read_csv(io.BytesIO(geolocation_data_object1[\"Body\"].read()))\n",
    "geolocation_data2 = pd.read_csv(io.BytesIO(geolocation_data_object2[\"Body\"].read()))\n",
    "order_items_data = pd.read_csv(io.BytesIO(items_data_object[\"Body\"].read()))\n",
    "order_payments_data = pd.read_csv(io.BytesIO(order_payments_data_object[\"Body\"].read()))\n",
    "order_reviews_data = pd.read_csv(io.BytesIO(order_reviews_data_object[\"Body\"].read()))\n",
    "orders_data = pd.read_csv(io.BytesIO(orders_data_object[\"Body\"].read()))\n",
    "products_data = pd.read_csv(io.BytesIO(products_data_object[\"Body\"].read()))\n",
    "sellers_data = pd.read_csv(io.BytesIO(sellers_data_object[\"Body\"].read()))\n",
    "product_category_name_translation_data = pd.read_csv(io.BytesIO(product_category_name_translation_data_object[\"Body\"].read()))"
   ]
  },
  {
   "cell_type": "code",
   "execution_count": 17,
   "id": "809f5303-1d75-47be-b388-0a60fe6c9e48",
   "metadata": {
    "tags": []
   },
   "outputs": [
    {
     "name": "stdout",
     "output_type": "stream",
     "text": [
      "Head of DataFrame: customer_data\n",
      "                        customer_id                customer_unique_id  \\\n",
      "0  06b8999e2fba1a1fbc88172c00ba8bc7  861eff4711a542e4b93843c6dd7febb0   \n",
      "1  18955e83d337fd6b2def6b18a428ac77  290c77bc529b7ac935b93aa66c333dc3   \n",
      "2  4e7b3e00288586ebd08712fdd0374a03  060e732b5b29e8181a18229c7b0b2b5e   \n",
      "3  b2b6027bc5c5109e529d4dc6358b12c3  259dac757896d24d7702b9acbbff3f3c   \n",
      "4  4f2d8ab171c80ec8364f7c12e35b23ad  345ecd01c38d18a9036ed96c73b8d066   \n",
      "\n",
      "   customer_zip_code_prefix          customer_city customer_state  \n",
      "0                     14409                 franca             SP  \n",
      "1                      9790  sao bernardo do campo             SP  \n",
      "2                      1151              sao paulo             SP  \n",
      "3                      8775        mogi das cruzes             SP  \n",
      "4                     13056               campinas             SP  \n",
      "\n",
      "\n",
      "Head of DataFrame: geolocation_data1\n",
      "   geolocation_zip_code_prefix  geolocation_lat  geolocation_lng  \\\n",
      "0                         1037       -23.545621       -46.639292   \n",
      "1                         1046       -23.546081       -46.644820   \n",
      "2                         1046       -23.546129       -46.642951   \n",
      "3                         1041       -23.544392       -46.639499   \n",
      "4                         1035       -23.541578       -46.641607   \n",
      "\n",
      "  geolocation_city geolocation_state  \n",
      "0        sao paulo                SP  \n",
      "1        sao paulo                SP  \n",
      "2        sao paulo                SP  \n",
      "3        sao paulo                SP  \n",
      "4        sao paulo                SP  \n",
      "\n",
      "\n",
      "Head of DataFrame: geolocation_data2\n",
      "   geolocation_zip_code_prefix  geolocation_lat  geolocation_lng  \\\n",
      "0                        26545       -22.811629       -43.395188   \n",
      "1                        26535       -22.796647       -43.416394   \n",
      "2                        26574       -22.775854       -43.403877   \n",
      "3                        26525       -22.814608       -43.415098   \n",
      "4                        26535       -22.800198       -43.410142   \n",
      "\n",
      "  geolocation_city geolocation_state  \n",
      "0        nilopolis                RJ  \n",
      "1        nilopolis                RJ  \n",
      "2         mesquita                RJ  \n",
      "3        nilopolis                RJ  \n",
      "4        nilopolis                RJ  \n",
      "\n",
      "\n",
      "Head of DataFrame: order_items_data\n",
      "                           order_id  order_item_id  \\\n",
      "0  00010242fe8c5a6d1ba2dd792cb16214              1   \n",
      "1  00018f77f2f0320c557190d7a144bdd3              1   \n",
      "2  000229ec398224ef6ca0657da4fc703e              1   \n",
      "3  00024acbcdf0a6daa1e931b038114c75              1   \n",
      "4  00042b26cf59d7ce69dfabb4e55b4fd9              1   \n",
      "\n",
      "                         product_id                         seller_id  \\\n",
      "0  4244733e06e7ecb4970a6e2683c13e61  48436dade18ac8b2bce089ec2a041202   \n",
      "1  e5f2d52b802189ee658865ca93d83a8f  dd7ddc04e1b6c2c614352b383efe2d36   \n",
      "2  c777355d18b72b67abbeef9df44fd0fd  5b51032eddd242adc84c38acab88f23d   \n",
      "3  7634da152a4610f1595efa32f14722fc  9d7a1d34a5052409006425275ba1c2b4   \n",
      "4  ac6c3623068f30de03045865e4e10089  df560393f3a51e74553ab94004ba5c87   \n",
      "\n",
      "   shipping_limit_date   price  freight_value  \n",
      "0  2017-09-19 09:45:35   58.90          13.29  \n",
      "1  2017-05-03 11:05:13  239.90          19.93  \n",
      "2  2018-01-18 14:48:30  199.00          17.87  \n",
      "3  2018-08-15 10:10:18   12.99          12.79  \n",
      "4  2017-02-13 13:57:51  199.90          18.14  \n",
      "\n",
      "\n",
      "Head of DataFrame: order_payments_data\n",
      "                           order_id  payment_sequential payment_type  \\\n",
      "0  b81ef226f3fe1789b1e8b2acac839d17                   1  credit_card   \n",
      "1  a9810da82917af2d9aefd1278f1dcfa0                   1  credit_card   \n",
      "2  25e8ea4e93396b6fa0d3dd708e76c1bd                   1  credit_card   \n",
      "3  ba78997921bbcdc1373bb41e913ab953                   1  credit_card   \n",
      "4  42fdf880ba16b47b59251dd489d4441a                   1  credit_card   \n",
      "\n",
      "   payment_installments  payment_value  \n",
      "0                     8          99.33  \n",
      "1                     1          24.39  \n",
      "2                     1          65.71  \n",
      "3                     8         107.78  \n",
      "4                     2         128.45  \n",
      "\n",
      "\n",
      "Head of DataFrame: order_reviews_data\n",
      "                          review_id                          order_id  \\\n",
      "0  7bc2406110b926393aa56f80a40eba40  73fc7af87114b39712e6da79b0a377eb   \n",
      "1  80e641a11e56f04c1ad469d5645fdfde  a548910a1c6147796b98fdf73dbeba33   \n",
      "2  228ce5500dc1d8e020d8d1322874b6f0  f9e4b658b201a9f2ecdecbb34bed034b   \n",
      "3  e64fb393e7b32834bb789ff8bb30750e  658677c97b385a9be170737859d3511b   \n",
      "4  f7c4243c7fe1938f181bec41a392bdeb  8e6bfb81e283fa7e4f11123a3fb894f1   \n",
      "\n",
      "   review_score review_comment_title  \\\n",
      "0             4                  NaN   \n",
      "1             5                  NaN   \n",
      "2             5                  NaN   \n",
      "3             5                  NaN   \n",
      "4             5                  NaN   \n",
      "\n",
      "                              review_comment_message review_creation_date  \\\n",
      "0                                                NaN  2018-01-18 00:00:00   \n",
      "1                                                NaN  2018-03-10 00:00:00   \n",
      "2                                                NaN  2018-02-17 00:00:00   \n",
      "3              Recebi bem antes do prazo estipulado.  2017-04-21 00:00:00   \n",
      "4  Parabéns lojas lannister adorei comprar pela I...  2018-03-01 00:00:00   \n",
      "\n",
      "  review_answer_timestamp  \n",
      "0     2018-01-18 21:46:59  \n",
      "1     2018-03-11 03:05:13  \n",
      "2     2018-02-18 14:36:24  \n",
      "3     2017-04-21 22:02:06  \n",
      "4     2018-03-02 10:26:53  \n",
      "\n",
      "\n",
      "Head of DataFrame: orders_data\n",
      "                           order_id                       customer_id  \\\n",
      "0  e481f51cbdc54678b7cc49136f2d6af7  9ef432eb6251297304e76186b10a928d   \n",
      "1  53cdb2fc8bc7dce0b6741e2150273451  b0830fb4747a6c6d20dea0b8c802d7ef   \n",
      "2  47770eb9100c2d0c44946d9cf07ec65d  41ce2a54c0b03bf3443c3d931a367089   \n",
      "3  949d5b44dbf5de918fe9c16f97b45f8a  f88197465ea7920adcdbec7375364d82   \n",
      "4  ad21c59c0840e6cb83a9ceb5573f8159  8ab97904e6daea8866dbdbc4fb7aad2c   \n",
      "\n",
      "  order_status order_purchase_timestamp    order_approved_at  \\\n",
      "0    delivered      2017-10-02 10:56:33  2017-10-02 11:07:15   \n",
      "1    delivered      2018-07-24 20:41:37  2018-07-26 03:24:27   \n",
      "2    delivered      2018-08-08 08:38:49  2018-08-08 08:55:23   \n",
      "3    delivered      2017-11-18 19:28:06  2017-11-18 19:45:59   \n",
      "4    delivered      2018-02-13 21:18:39  2018-02-13 22:20:29   \n",
      "\n",
      "  order_delivered_carrier_date order_delivered_customer_date  \\\n",
      "0          2017-10-04 19:55:00           2017-10-10 21:25:13   \n",
      "1          2018-07-26 14:31:00           2018-08-07 15:27:45   \n",
      "2          2018-08-08 13:50:00           2018-08-17 18:06:29   \n",
      "3          2017-11-22 13:39:59           2017-12-02 00:28:42   \n",
      "4          2018-02-14 19:46:34           2018-02-16 18:17:02   \n",
      "\n",
      "  order_estimated_delivery_date  \n",
      "0           2017-10-18 00:00:00  \n",
      "1           2018-08-13 00:00:00  \n",
      "2           2018-09-04 00:00:00  \n",
      "3           2017-12-15 00:00:00  \n",
      "4           2018-02-26 00:00:00  \n",
      "\n",
      "\n",
      "Head of DataFrame: products_data\n",
      "                         product_id  product_category_name  \\\n",
      "0  1e9e8ef04dbcff4541ed26657ea517e5             perfumaria   \n",
      "1  3aa071139cb16b67ca9e5dea641aaa2f                  artes   \n",
      "2  96bd76ec8810374ed1b65e291975717f          esporte_lazer   \n",
      "3  cef67bcfe19066a932b7673e239eb23d                  bebes   \n",
      "4  9dc1a7de274444849c219cff195d0b71  utilidades_domesticas   \n",
      "\n",
      "   product_name_lenght  product_description_lenght  product_photos_qty  \\\n",
      "0                 40.0                       287.0                 1.0   \n",
      "1                 44.0                       276.0                 1.0   \n",
      "2                 46.0                       250.0                 1.0   \n",
      "3                 27.0                       261.0                 1.0   \n",
      "4                 37.0                       402.0                 4.0   \n",
      "\n",
      "   product_weight_g  product_length_cm  product_height_cm  product_width_cm  \n",
      "0             225.0               16.0               10.0              14.0  \n",
      "1            1000.0               30.0               18.0              20.0  \n",
      "2             154.0               18.0                9.0              15.0  \n",
      "3             371.0               26.0                4.0              26.0  \n",
      "4             625.0               20.0               17.0              13.0  \n",
      "\n",
      "\n",
      "Head of DataFrame: sellers_data\n",
      "                          seller_id  seller_zip_code_prefix  \\\n",
      "0  3442f8959a84dea7ee197c632cb2df15                   13023   \n",
      "1  d1b65fc7debc3361ea86b5f14c68d2e2                   13844   \n",
      "2  ce3ad9de960102d0677a81f5d0bb7b2d                   20031   \n",
      "3  c0f3eea2e14555b6faeea3dd58c1b1c3                    4195   \n",
      "4  51a04a8a6bdcb23deccc82b0b80742cf                   12914   \n",
      "\n",
      "         seller_city seller_state  \n",
      "0           campinas           SP  \n",
      "1         mogi guacu           SP  \n",
      "2     rio de janeiro           RJ  \n",
      "3          sao paulo           SP  \n",
      "4  braganca paulista           SP  \n",
      "\n",
      "\n",
      "Head of DataFrame: product_category_name_translation_data\n",
      "    product_category_name product_category_name_english\n",
      "0            beleza_saude                 health_beauty\n",
      "1  informatica_acessorios         computers_accessories\n",
      "2              automotivo                          auto\n",
      "3         cama_mesa_banho                bed_bath_table\n",
      "4        moveis_decoracao               furniture_decor\n",
      "\n",
      "\n"
     ]
    }
   ],
   "source": [
    "# List of DataFrame names\n",
    "dataframe_names = [\n",
    "    \"customer_data\", \"geolocation_data1\", \"geolocation_data2\", \"order_items_data\", \"order_payments_data\",\n",
    "    \"order_reviews_data\", \"orders_data\", \"products_data\", \"sellers_data\", \"product_category_name_translation_data\"\n",
    "]\n",
    "\n",
    "# Iterate over DataFrame names and print the head of each DataFrame to Ensure Data is Captured\n",
    "for df_name in dataframe_names:\n",
    "    print(f\"Head of DataFrame: {df_name}\")\n",
    "    print(eval(df_name).head(5))  # Print the head of each DataFrame\n",
    "    print(\"\\n\")"
   ]
  },
  {
   "cell_type": "code",
   "execution_count": 18,
   "id": "55d6f40d-03c8-458f-bd49-c4ebf4d2657f",
   "metadata": {
    "tags": []
   },
   "outputs": [
    {
     "name": "stdout",
     "output_type": "stream",
     "text": [
      "['customer_data', 'geolocation_data1', 'geolocation_data2', 'order_items_data', 'order_payments_data', 'order_reviews_data', 'orders_data', 'products_data', 'sellers_data', 'product_category_name_translation_data']\n"
     ]
    }
   ],
   "source": [
    "print(dataframe_names)"
   ]
  },
  {
   "cell_type": "code",
   "execution_count": 19,
   "id": "2be1c313-fff8-43bc-9bb4-06eb1d75ef1b",
   "metadata": {
    "tags": []
   },
   "outputs": [
    {
     "data": {
      "text/html": [
       "<div>\n",
       "<style scoped>\n",
       "    .dataframe tbody tr th:only-of-type {\n",
       "        vertical-align: middle;\n",
       "    }\n",
       "\n",
       "    .dataframe tbody tr th {\n",
       "        vertical-align: top;\n",
       "    }\n",
       "\n",
       "    .dataframe thead th {\n",
       "        text-align: right;\n",
       "    }\n",
       "</style>\n",
       "<table border=\"1\" class=\"dataframe\">\n",
       "  <thead>\n",
       "    <tr style=\"text-align: right;\">\n",
       "      <th></th>\n",
       "      <th>product_id</th>\n",
       "      <th>product_category_name</th>\n",
       "      <th>product_name_lenght</th>\n",
       "      <th>product_description_lenght</th>\n",
       "      <th>product_photos_qty</th>\n",
       "      <th>product_weight_g</th>\n",
       "      <th>product_length_cm</th>\n",
       "      <th>product_height_cm</th>\n",
       "      <th>product_width_cm</th>\n",
       "    </tr>\n",
       "  </thead>\n",
       "  <tbody>\n",
       "    <tr>\n",
       "      <th>0</th>\n",
       "      <td>1e9e8ef04dbcff4541ed26657ea517e5</td>\n",
       "      <td>perfumaria</td>\n",
       "      <td>40.0</td>\n",
       "      <td>287.0</td>\n",
       "      <td>1.0</td>\n",
       "      <td>225.0</td>\n",
       "      <td>16.0</td>\n",
       "      <td>10.0</td>\n",
       "      <td>14.0</td>\n",
       "    </tr>\n",
       "    <tr>\n",
       "      <th>1</th>\n",
       "      <td>3aa071139cb16b67ca9e5dea641aaa2f</td>\n",
       "      <td>artes</td>\n",
       "      <td>44.0</td>\n",
       "      <td>276.0</td>\n",
       "      <td>1.0</td>\n",
       "      <td>1000.0</td>\n",
       "      <td>30.0</td>\n",
       "      <td>18.0</td>\n",
       "      <td>20.0</td>\n",
       "    </tr>\n",
       "    <tr>\n",
       "      <th>2</th>\n",
       "      <td>96bd76ec8810374ed1b65e291975717f</td>\n",
       "      <td>esporte_lazer</td>\n",
       "      <td>46.0</td>\n",
       "      <td>250.0</td>\n",
       "      <td>1.0</td>\n",
       "      <td>154.0</td>\n",
       "      <td>18.0</td>\n",
       "      <td>9.0</td>\n",
       "      <td>15.0</td>\n",
       "    </tr>\n",
       "    <tr>\n",
       "      <th>3</th>\n",
       "      <td>cef67bcfe19066a932b7673e239eb23d</td>\n",
       "      <td>bebes</td>\n",
       "      <td>27.0</td>\n",
       "      <td>261.0</td>\n",
       "      <td>1.0</td>\n",
       "      <td>371.0</td>\n",
       "      <td>26.0</td>\n",
       "      <td>4.0</td>\n",
       "      <td>26.0</td>\n",
       "    </tr>\n",
       "    <tr>\n",
       "      <th>4</th>\n",
       "      <td>9dc1a7de274444849c219cff195d0b71</td>\n",
       "      <td>utilidades_domesticas</td>\n",
       "      <td>37.0</td>\n",
       "      <td>402.0</td>\n",
       "      <td>4.0</td>\n",
       "      <td>625.0</td>\n",
       "      <td>20.0</td>\n",
       "      <td>17.0</td>\n",
       "      <td>13.0</td>\n",
       "    </tr>\n",
       "  </tbody>\n",
       "</table>\n",
       "</div>"
      ],
      "text/plain": [
       "                         product_id  product_category_name  \\\n",
       "0  1e9e8ef04dbcff4541ed26657ea517e5             perfumaria   \n",
       "1  3aa071139cb16b67ca9e5dea641aaa2f                  artes   \n",
       "2  96bd76ec8810374ed1b65e291975717f          esporte_lazer   \n",
       "3  cef67bcfe19066a932b7673e239eb23d                  bebes   \n",
       "4  9dc1a7de274444849c219cff195d0b71  utilidades_domesticas   \n",
       "\n",
       "   product_name_lenght  product_description_lenght  product_photos_qty  \\\n",
       "0                 40.0                       287.0                 1.0   \n",
       "1                 44.0                       276.0                 1.0   \n",
       "2                 46.0                       250.0                 1.0   \n",
       "3                 27.0                       261.0                 1.0   \n",
       "4                 37.0                       402.0                 4.0   \n",
       "\n",
       "   product_weight_g  product_length_cm  product_height_cm  product_width_cm  \n",
       "0             225.0               16.0               10.0              14.0  \n",
       "1            1000.0               30.0               18.0              20.0  \n",
       "2             154.0               18.0                9.0              15.0  \n",
       "3             371.0               26.0                4.0              26.0  \n",
       "4             625.0               20.0               17.0              13.0  "
      ]
     },
     "execution_count": 19,
     "metadata": {},
     "output_type": "execute_result"
    }
   ],
   "source": [
    "products_data.head(5)"
   ]
  },
  {
   "cell_type": "code",
   "execution_count": 20,
   "id": "2ea59e7c-da09-428e-a232-95b194df1f39",
   "metadata": {
    "tags": []
   },
   "outputs": [],
   "source": [
    "# Merge Data on Order ID\n",
    "ecommerce_df = orders_data.merge(order_items_data, on='order_id', how='left')\n",
    "ecommerce_df = ecommerce_df.merge(order_payments_data, on='order_id', how='outer', validate='m:m')\n",
    "ecommerce_df = ecommerce_df.merge(order_reviews_data, on='order_id', how='outer')\n",
    "\n",
    "# Merge Data on Product ID\n",
    "ecommerce_df = ecommerce_df.merge(products_data, on='product_id', how='outer')\n",
    "\n",
    "# Merge Data on Customer ID\n",
    "ecommerce_df = ecommerce_df.merge(customer_data, on='customer_id', how='outer')\n",
    "\n",
    "# Merge Data on Seller ID\n",
    "ecommerce_df = ecommerce_df.merge(sellers_data, on='seller_id', how='outer')"
   ]
  },
  {
   "cell_type": "code",
   "execution_count": 21,
   "id": "9909eae1-4aef-4f03-a4cd-f7917687025a",
   "metadata": {
    "tags": []
   },
   "outputs": [
    {
     "data": {
      "text/html": [
       "<div>\n",
       "<style scoped>\n",
       "    .dataframe tbody tr th:only-of-type {\n",
       "        vertical-align: middle;\n",
       "    }\n",
       "\n",
       "    .dataframe tbody tr th {\n",
       "        vertical-align: top;\n",
       "    }\n",
       "\n",
       "    .dataframe thead th {\n",
       "        text-align: right;\n",
       "    }\n",
       "</style>\n",
       "<table border=\"1\" class=\"dataframe\">\n",
       "  <thead>\n",
       "    <tr style=\"text-align: right;\">\n",
       "      <th></th>\n",
       "      <th>order_id</th>\n",
       "      <th>customer_id</th>\n",
       "      <th>order_status</th>\n",
       "      <th>order_purchase_timestamp</th>\n",
       "      <th>order_approved_at</th>\n",
       "      <th>order_delivered_carrier_date</th>\n",
       "      <th>order_delivered_customer_date</th>\n",
       "      <th>order_estimated_delivery_date</th>\n",
       "      <th>order_item_id</th>\n",
       "      <th>product_id</th>\n",
       "      <th>...</th>\n",
       "      <th>product_length_cm</th>\n",
       "      <th>product_height_cm</th>\n",
       "      <th>product_width_cm</th>\n",
       "      <th>customer_unique_id</th>\n",
       "      <th>customer_zip_code_prefix</th>\n",
       "      <th>customer_city</th>\n",
       "      <th>customer_state</th>\n",
       "      <th>seller_zip_code_prefix</th>\n",
       "      <th>seller_city</th>\n",
       "      <th>seller_state</th>\n",
       "    </tr>\n",
       "  </thead>\n",
       "  <tbody>\n",
       "    <tr>\n",
       "      <th>0</th>\n",
       "      <td>e481f51cbdc54678b7cc49136f2d6af7</td>\n",
       "      <td>9ef432eb6251297304e76186b10a928d</td>\n",
       "      <td>delivered</td>\n",
       "      <td>2017-10-02 10:56:33</td>\n",
       "      <td>2017-10-02 11:07:15</td>\n",
       "      <td>2017-10-04 19:55:00</td>\n",
       "      <td>2017-10-10 21:25:13</td>\n",
       "      <td>2017-10-18 00:00:00</td>\n",
       "      <td>1.0</td>\n",
       "      <td>87285b34884572647811a353c7ac498a</td>\n",
       "      <td>...</td>\n",
       "      <td>19.0</td>\n",
       "      <td>8.0</td>\n",
       "      <td>13.0</td>\n",
       "      <td>7c396fd4830fd04220f754e42b4e5bff</td>\n",
       "      <td>3149</td>\n",
       "      <td>sao paulo</td>\n",
       "      <td>SP</td>\n",
       "      <td>9350.0</td>\n",
       "      <td>maua</td>\n",
       "      <td>SP</td>\n",
       "    </tr>\n",
       "    <tr>\n",
       "      <th>1</th>\n",
       "      <td>e481f51cbdc54678b7cc49136f2d6af7</td>\n",
       "      <td>9ef432eb6251297304e76186b10a928d</td>\n",
       "      <td>delivered</td>\n",
       "      <td>2017-10-02 10:56:33</td>\n",
       "      <td>2017-10-02 11:07:15</td>\n",
       "      <td>2017-10-04 19:55:00</td>\n",
       "      <td>2017-10-10 21:25:13</td>\n",
       "      <td>2017-10-18 00:00:00</td>\n",
       "      <td>1.0</td>\n",
       "      <td>87285b34884572647811a353c7ac498a</td>\n",
       "      <td>...</td>\n",
       "      <td>19.0</td>\n",
       "      <td>8.0</td>\n",
       "      <td>13.0</td>\n",
       "      <td>7c396fd4830fd04220f754e42b4e5bff</td>\n",
       "      <td>3149</td>\n",
       "      <td>sao paulo</td>\n",
       "      <td>SP</td>\n",
       "      <td>9350.0</td>\n",
       "      <td>maua</td>\n",
       "      <td>SP</td>\n",
       "    </tr>\n",
       "    <tr>\n",
       "      <th>2</th>\n",
       "      <td>e481f51cbdc54678b7cc49136f2d6af7</td>\n",
       "      <td>9ef432eb6251297304e76186b10a928d</td>\n",
       "      <td>delivered</td>\n",
       "      <td>2017-10-02 10:56:33</td>\n",
       "      <td>2017-10-02 11:07:15</td>\n",
       "      <td>2017-10-04 19:55:00</td>\n",
       "      <td>2017-10-10 21:25:13</td>\n",
       "      <td>2017-10-18 00:00:00</td>\n",
       "      <td>1.0</td>\n",
       "      <td>87285b34884572647811a353c7ac498a</td>\n",
       "      <td>...</td>\n",
       "      <td>19.0</td>\n",
       "      <td>8.0</td>\n",
       "      <td>13.0</td>\n",
       "      <td>7c396fd4830fd04220f754e42b4e5bff</td>\n",
       "      <td>3149</td>\n",
       "      <td>sao paulo</td>\n",
       "      <td>SP</td>\n",
       "      <td>9350.0</td>\n",
       "      <td>maua</td>\n",
       "      <td>SP</td>\n",
       "    </tr>\n",
       "    <tr>\n",
       "      <th>3</th>\n",
       "      <td>128e10d95713541c87cd1a2e48201934</td>\n",
       "      <td>a20e8105f23924cd00833fd87daa0831</td>\n",
       "      <td>delivered</td>\n",
       "      <td>2017-08-15 18:29:31</td>\n",
       "      <td>2017-08-15 20:05:16</td>\n",
       "      <td>2017-08-17 15:28:33</td>\n",
       "      <td>2017-08-18 14:44:43</td>\n",
       "      <td>2017-08-28 00:00:00</td>\n",
       "      <td>1.0</td>\n",
       "      <td>87285b34884572647811a353c7ac498a</td>\n",
       "      <td>...</td>\n",
       "      <td>19.0</td>\n",
       "      <td>8.0</td>\n",
       "      <td>13.0</td>\n",
       "      <td>3a51803cc0d012c3b5dc8b7528cb05f7</td>\n",
       "      <td>3366</td>\n",
       "      <td>sao paulo</td>\n",
       "      <td>SP</td>\n",
       "      <td>9350.0</td>\n",
       "      <td>maua</td>\n",
       "      <td>SP</td>\n",
       "    </tr>\n",
       "    <tr>\n",
       "      <th>4</th>\n",
       "      <td>0e7e841ddf8f8f2de2bad69267ecfbcf</td>\n",
       "      <td>26c7ac168e1433912a51b924fbd34d34</td>\n",
       "      <td>delivered</td>\n",
       "      <td>2017-08-02 18:24:47</td>\n",
       "      <td>2017-08-02 18:43:15</td>\n",
       "      <td>2017-08-04 17:35:43</td>\n",
       "      <td>2017-08-07 18:30:01</td>\n",
       "      <td>2017-08-15 00:00:00</td>\n",
       "      <td>1.0</td>\n",
       "      <td>87285b34884572647811a353c7ac498a</td>\n",
       "      <td>...</td>\n",
       "      <td>19.0</td>\n",
       "      <td>8.0</td>\n",
       "      <td>13.0</td>\n",
       "      <td>ef0996a1a279c26e7ecbd737be23d235</td>\n",
       "      <td>2290</td>\n",
       "      <td>sao paulo</td>\n",
       "      <td>SP</td>\n",
       "      <td>9350.0</td>\n",
       "      <td>maua</td>\n",
       "      <td>SP</td>\n",
       "    </tr>\n",
       "  </tbody>\n",
       "</table>\n",
       "<p>5 rows × 39 columns</p>\n",
       "</div>"
      ],
      "text/plain": [
       "                           order_id                       customer_id  \\\n",
       "0  e481f51cbdc54678b7cc49136f2d6af7  9ef432eb6251297304e76186b10a928d   \n",
       "1  e481f51cbdc54678b7cc49136f2d6af7  9ef432eb6251297304e76186b10a928d   \n",
       "2  e481f51cbdc54678b7cc49136f2d6af7  9ef432eb6251297304e76186b10a928d   \n",
       "3  128e10d95713541c87cd1a2e48201934  a20e8105f23924cd00833fd87daa0831   \n",
       "4  0e7e841ddf8f8f2de2bad69267ecfbcf  26c7ac168e1433912a51b924fbd34d34   \n",
       "\n",
       "  order_status order_purchase_timestamp    order_approved_at  \\\n",
       "0    delivered      2017-10-02 10:56:33  2017-10-02 11:07:15   \n",
       "1    delivered      2017-10-02 10:56:33  2017-10-02 11:07:15   \n",
       "2    delivered      2017-10-02 10:56:33  2017-10-02 11:07:15   \n",
       "3    delivered      2017-08-15 18:29:31  2017-08-15 20:05:16   \n",
       "4    delivered      2017-08-02 18:24:47  2017-08-02 18:43:15   \n",
       "\n",
       "  order_delivered_carrier_date order_delivered_customer_date  \\\n",
       "0          2017-10-04 19:55:00           2017-10-10 21:25:13   \n",
       "1          2017-10-04 19:55:00           2017-10-10 21:25:13   \n",
       "2          2017-10-04 19:55:00           2017-10-10 21:25:13   \n",
       "3          2017-08-17 15:28:33           2017-08-18 14:44:43   \n",
       "4          2017-08-04 17:35:43           2017-08-07 18:30:01   \n",
       "\n",
       "  order_estimated_delivery_date  order_item_id  \\\n",
       "0           2017-10-18 00:00:00            1.0   \n",
       "1           2017-10-18 00:00:00            1.0   \n",
       "2           2017-10-18 00:00:00            1.0   \n",
       "3           2017-08-28 00:00:00            1.0   \n",
       "4           2017-08-15 00:00:00            1.0   \n",
       "\n",
       "                         product_id  ... product_length_cm product_height_cm  \\\n",
       "0  87285b34884572647811a353c7ac498a  ...              19.0               8.0   \n",
       "1  87285b34884572647811a353c7ac498a  ...              19.0               8.0   \n",
       "2  87285b34884572647811a353c7ac498a  ...              19.0               8.0   \n",
       "3  87285b34884572647811a353c7ac498a  ...              19.0               8.0   \n",
       "4  87285b34884572647811a353c7ac498a  ...              19.0               8.0   \n",
       "\n",
       "   product_width_cm                customer_unique_id  \\\n",
       "0              13.0  7c396fd4830fd04220f754e42b4e5bff   \n",
       "1              13.0  7c396fd4830fd04220f754e42b4e5bff   \n",
       "2              13.0  7c396fd4830fd04220f754e42b4e5bff   \n",
       "3              13.0  3a51803cc0d012c3b5dc8b7528cb05f7   \n",
       "4              13.0  ef0996a1a279c26e7ecbd737be23d235   \n",
       "\n",
       "   customer_zip_code_prefix customer_city  customer_state  \\\n",
       "0                      3149     sao paulo              SP   \n",
       "1                      3149     sao paulo              SP   \n",
       "2                      3149     sao paulo              SP   \n",
       "3                      3366     sao paulo              SP   \n",
       "4                      2290     sao paulo              SP   \n",
       "\n",
       "   seller_zip_code_prefix seller_city  seller_state  \n",
       "0                  9350.0        maua            SP  \n",
       "1                  9350.0        maua            SP  \n",
       "2                  9350.0        maua            SP  \n",
       "3                  9350.0        maua            SP  \n",
       "4                  9350.0        maua            SP  \n",
       "\n",
       "[5 rows x 39 columns]"
      ]
     },
     "execution_count": 21,
     "metadata": {},
     "output_type": "execute_result"
    }
   ],
   "source": [
    "ecommerce_df.head(5)"
   ]
  },
  {
   "cell_type": "code",
   "execution_count": 22,
   "id": "82160ba6-5bb9-4007-a551-11d8f16ed2f4",
   "metadata": {
    "tags": []
   },
   "outputs": [
    {
     "name": "stdout",
     "output_type": "stream",
     "text": [
      "\n",
      "Data types of ecommerce_df:\n",
      "order_id                          object\n",
      "customer_id                       object\n",
      "order_status                      object\n",
      "order_purchase_timestamp          object\n",
      "order_approved_at                 object\n",
      "order_delivered_carrier_date      object\n",
      "order_delivered_customer_date     object\n",
      "order_estimated_delivery_date     object\n",
      "order_item_id                    float64\n",
      "product_id                        object\n",
      "seller_id                         object\n",
      "shipping_limit_date               object\n",
      "price                            float64\n",
      "freight_value                    float64\n",
      "payment_sequential               float64\n",
      "payment_type                      object\n",
      "payment_installments             float64\n",
      "payment_value                    float64\n",
      "review_id                         object\n",
      "review_score                     float64\n",
      "review_comment_title              object\n",
      "review_comment_message            object\n",
      "review_creation_date              object\n",
      "review_answer_timestamp           object\n",
      "product_category_name             object\n",
      "product_name_lenght              float64\n",
      "product_description_lenght       float64\n",
      "product_photos_qty               float64\n",
      "product_weight_g                 float64\n",
      "product_length_cm                float64\n",
      "product_height_cm                float64\n",
      "product_width_cm                 float64\n",
      "customer_unique_id                object\n",
      "customer_zip_code_prefix           int64\n",
      "customer_city                     object\n",
      "customer_state                    object\n",
      "seller_zip_code_prefix           float64\n",
      "seller_city                       object\n",
      "seller_state                      object\n",
      "dtype: object\n"
     ]
    }
   ],
   "source": [
    "# Print the data types of each column in the DataFrame\n",
    "print(\"\\nData types of ecommerce_df:\")\n",
    "print(ecommerce_df.dtypes)"
   ]
  },
  {
   "cell_type": "code",
   "execution_count": 23,
   "id": "e38cbae8-f8aa-4c2f-a16f-461aa7341ece",
   "metadata": {
    "tags": []
   },
   "outputs": [
    {
     "name": "stdout",
     "output_type": "stream",
     "text": [
      "Dataset Shape: (119143, 39)\n"
     ]
    },
    {
     "data": {
      "text/html": [
       "<div>\n",
       "<style scoped>\n",
       "    .dataframe tbody tr th:only-of-type {\n",
       "        vertical-align: middle;\n",
       "    }\n",
       "\n",
       "    .dataframe tbody tr th {\n",
       "        vertical-align: top;\n",
       "    }\n",
       "\n",
       "    .dataframe thead th {\n",
       "        text-align: right;\n",
       "    }\n",
       "</style>\n",
       "<table border=\"1\" class=\"dataframe\">\n",
       "  <thead>\n",
       "    <tr style=\"text-align: right;\">\n",
       "      <th></th>\n",
       "      <th>Column</th>\n",
       "      <th>dtypes</th>\n",
       "      <th># Missing</th>\n",
       "      <th># Unique</th>\n",
       "      <th>Example</th>\n",
       "      <th>Entropy</th>\n",
       "    </tr>\n",
       "  </thead>\n",
       "  <tbody>\n",
       "    <tr>\n",
       "      <th>0</th>\n",
       "      <td>order_id</td>\n",
       "      <td>object</td>\n",
       "      <td>0</td>\n",
       "      <td>99441</td>\n",
       "      <td>e481f51cbdc54678b7cc49136f2d6af7</td>\n",
       "      <td>16.46</td>\n",
       "    </tr>\n",
       "    <tr>\n",
       "      <th>1</th>\n",
       "      <td>customer_id</td>\n",
       "      <td>object</td>\n",
       "      <td>0</td>\n",
       "      <td>99441</td>\n",
       "      <td>9ef432eb6251297304e76186b10a928d</td>\n",
       "      <td>16.46</td>\n",
       "    </tr>\n",
       "    <tr>\n",
       "      <th>2</th>\n",
       "      <td>order_status</td>\n",
       "      <td>object</td>\n",
       "      <td>0</td>\n",
       "      <td>8</td>\n",
       "      <td>delivered</td>\n",
       "      <td>0.25</td>\n",
       "    </tr>\n",
       "    <tr>\n",
       "      <th>3</th>\n",
       "      <td>order_purchase_timestamp</td>\n",
       "      <td>object</td>\n",
       "      <td>0</td>\n",
       "      <td>98875</td>\n",
       "      <td>2017-10-02 10:56:33</td>\n",
       "      <td>16.44</td>\n",
       "    </tr>\n",
       "    <tr>\n",
       "      <th>4</th>\n",
       "      <td>order_approved_at</td>\n",
       "      <td>object</td>\n",
       "      <td>177</td>\n",
       "      <td>90733</td>\n",
       "      <td>2017-10-02 11:07:15</td>\n",
       "      <td>16.28</td>\n",
       "    </tr>\n",
       "    <tr>\n",
       "      <th>5</th>\n",
       "      <td>order_delivered_carrier_date</td>\n",
       "      <td>object</td>\n",
       "      <td>2086</td>\n",
       "      <td>81018</td>\n",
       "      <td>2017-10-04 19:55:00</td>\n",
       "      <td>16.03</td>\n",
       "    </tr>\n",
       "    <tr>\n",
       "      <th>6</th>\n",
       "      <td>order_delivered_customer_date</td>\n",
       "      <td>object</td>\n",
       "      <td>3421</td>\n",
       "      <td>95664</td>\n",
       "      <td>2017-10-10 21:25:13</td>\n",
       "      <td>16.40</td>\n",
       "    </tr>\n",
       "    <tr>\n",
       "      <th>7</th>\n",
       "      <td>order_estimated_delivery_date</td>\n",
       "      <td>object</td>\n",
       "      <td>0</td>\n",
       "      <td>459</td>\n",
       "      <td>2017-10-18 00:00:00</td>\n",
       "      <td>8.47</td>\n",
       "    </tr>\n",
       "    <tr>\n",
       "      <th>8</th>\n",
       "      <td>order_item_id</td>\n",
       "      <td>float64</td>\n",
       "      <td>833</td>\n",
       "      <td>21</td>\n",
       "      <td>1.0</td>\n",
       "      <td>0.72</td>\n",
       "    </tr>\n",
       "    <tr>\n",
       "      <th>9</th>\n",
       "      <td>product_id</td>\n",
       "      <td>object</td>\n",
       "      <td>833</td>\n",
       "      <td>32951</td>\n",
       "      <td>87285b34884572647811a353c7ac498a</td>\n",
       "      <td>13.63</td>\n",
       "    </tr>\n",
       "    <tr>\n",
       "      <th>10</th>\n",
       "      <td>seller_id</td>\n",
       "      <td>object</td>\n",
       "      <td>833</td>\n",
       "      <td>3095</td>\n",
       "      <td>3504c0cb71d7fa48d967e0e4c94d59d9</td>\n",
       "      <td>9.48</td>\n",
       "    </tr>\n",
       "    <tr>\n",
       "      <th>11</th>\n",
       "      <td>shipping_limit_date</td>\n",
       "      <td>object</td>\n",
       "      <td>833</td>\n",
       "      <td>93318</td>\n",
       "      <td>2017-10-06 11:07:15</td>\n",
       "      <td>16.34</td>\n",
       "    </tr>\n",
       "    <tr>\n",
       "      <th>12</th>\n",
       "      <td>price</td>\n",
       "      <td>float64</td>\n",
       "      <td>833</td>\n",
       "      <td>5968</td>\n",
       "      <td>29.99</td>\n",
       "      <td>9.58</td>\n",
       "    </tr>\n",
       "    <tr>\n",
       "      <th>13</th>\n",
       "      <td>freight_value</td>\n",
       "      <td>float64</td>\n",
       "      <td>833</td>\n",
       "      <td>6999</td>\n",
       "      <td>8.72</td>\n",
       "      <td>10.51</td>\n",
       "    </tr>\n",
       "    <tr>\n",
       "      <th>14</th>\n",
       "      <td>payment_sequential</td>\n",
       "      <td>float64</td>\n",
       "      <td>3</td>\n",
       "      <td>29</td>\n",
       "      <td>1.0</td>\n",
       "      <td>0.34</td>\n",
       "    </tr>\n",
       "    <tr>\n",
       "      <th>15</th>\n",
       "      <td>payment_type</td>\n",
       "      <td>object</td>\n",
       "      <td>3</td>\n",
       "      <td>5</td>\n",
       "      <td>credit_card</td>\n",
       "      <td>1.10</td>\n",
       "    </tr>\n",
       "    <tr>\n",
       "      <th>16</th>\n",
       "      <td>payment_installments</td>\n",
       "      <td>float64</td>\n",
       "      <td>3</td>\n",
       "      <td>24</td>\n",
       "      <td>1.0</td>\n",
       "      <td>2.47</td>\n",
       "    </tr>\n",
       "    <tr>\n",
       "      <th>17</th>\n",
       "      <td>payment_value</td>\n",
       "      <td>float64</td>\n",
       "      <td>3</td>\n",
       "      <td>29077</td>\n",
       "      <td>18.12</td>\n",
       "      <td>13.98</td>\n",
       "    </tr>\n",
       "    <tr>\n",
       "      <th>18</th>\n",
       "      <td>review_id</td>\n",
       "      <td>object</td>\n",
       "      <td>997</td>\n",
       "      <td>98410</td>\n",
       "      <td>a54f0611adc9ed256b57ede6b6eb5114</td>\n",
       "      <td>16.44</td>\n",
       "    </tr>\n",
       "    <tr>\n",
       "      <th>19</th>\n",
       "      <td>review_score</td>\n",
       "      <td>float64</td>\n",
       "      <td>997</td>\n",
       "      <td>5</td>\n",
       "      <td>4.0</td>\n",
       "      <td>1.77</td>\n",
       "    </tr>\n",
       "    <tr>\n",
       "      <th>20</th>\n",
       "      <td>review_comment_title</td>\n",
       "      <td>object</td>\n",
       "      <td>105154</td>\n",
       "      <td>4527</td>\n",
       "      <td>NaN</td>\n",
       "      <td>9.97</td>\n",
       "    </tr>\n",
       "    <tr>\n",
       "      <th>21</th>\n",
       "      <td>review_comment_message</td>\n",
       "      <td>object</td>\n",
       "      <td>68898</td>\n",
       "      <td>36159</td>\n",
       "      <td>Não testei o produto ainda, mas ele veio corre...</td>\n",
       "      <td>14.69</td>\n",
       "    </tr>\n",
       "    <tr>\n",
       "      <th>22</th>\n",
       "      <td>review_creation_date</td>\n",
       "      <td>object</td>\n",
       "      <td>997</td>\n",
       "      <td>636</td>\n",
       "      <td>2017-10-11 00:00:00</td>\n",
       "      <td>8.77</td>\n",
       "    </tr>\n",
       "    <tr>\n",
       "      <th>23</th>\n",
       "      <td>review_answer_timestamp</td>\n",
       "      <td>object</td>\n",
       "      <td>997</td>\n",
       "      <td>98248</td>\n",
       "      <td>2017-10-12 03:43:48</td>\n",
       "      <td>16.44</td>\n",
       "    </tr>\n",
       "    <tr>\n",
       "      <th>24</th>\n",
       "      <td>product_category_name</td>\n",
       "      <td>object</td>\n",
       "      <td>2542</td>\n",
       "      <td>73</td>\n",
       "      <td>utilidades_domesticas</td>\n",
       "      <td>4.72</td>\n",
       "    </tr>\n",
       "    <tr>\n",
       "      <th>25</th>\n",
       "      <td>product_name_lenght</td>\n",
       "      <td>float64</td>\n",
       "      <td>2542</td>\n",
       "      <td>66</td>\n",
       "      <td>40.0</td>\n",
       "      <td>5.03</td>\n",
       "    </tr>\n",
       "    <tr>\n",
       "      <th>26</th>\n",
       "      <td>product_description_lenght</td>\n",
       "      <td>float64</td>\n",
       "      <td>2542</td>\n",
       "      <td>2960</td>\n",
       "      <td>268.0</td>\n",
       "      <td>10.44</td>\n",
       "    </tr>\n",
       "    <tr>\n",
       "      <th>27</th>\n",
       "      <td>product_photos_qty</td>\n",
       "      <td>float64</td>\n",
       "      <td>2542</td>\n",
       "      <td>19</td>\n",
       "      <td>4.0</td>\n",
       "      <td>2.17</td>\n",
       "    </tr>\n",
       "    <tr>\n",
       "      <th>28</th>\n",
       "      <td>product_weight_g</td>\n",
       "      <td>float64</td>\n",
       "      <td>853</td>\n",
       "      <td>2204</td>\n",
       "      <td>500.0</td>\n",
       "      <td>7.62</td>\n",
       "    </tr>\n",
       "    <tr>\n",
       "      <th>29</th>\n",
       "      <td>product_length_cm</td>\n",
       "      <td>float64</td>\n",
       "      <td>853</td>\n",
       "      <td>99</td>\n",
       "      <td>19.0</td>\n",
       "      <td>5.02</td>\n",
       "    </tr>\n",
       "    <tr>\n",
       "      <th>30</th>\n",
       "      <td>product_height_cm</td>\n",
       "      <td>float64</td>\n",
       "      <td>853</td>\n",
       "      <td>102</td>\n",
       "      <td>8.0</td>\n",
       "      <td>5.09</td>\n",
       "    </tr>\n",
       "    <tr>\n",
       "      <th>31</th>\n",
       "      <td>product_width_cm</td>\n",
       "      <td>float64</td>\n",
       "      <td>853</td>\n",
       "      <td>95</td>\n",
       "      <td>13.0</td>\n",
       "      <td>4.80</td>\n",
       "    </tr>\n",
       "    <tr>\n",
       "      <th>32</th>\n",
       "      <td>customer_unique_id</td>\n",
       "      <td>object</td>\n",
       "      <td>0</td>\n",
       "      <td>96096</td>\n",
       "      <td>7c396fd4830fd04220f754e42b4e5bff</td>\n",
       "      <td>16.38</td>\n",
       "    </tr>\n",
       "    <tr>\n",
       "      <th>33</th>\n",
       "      <td>customer_zip_code_prefix</td>\n",
       "      <td>int64</td>\n",
       "      <td>0</td>\n",
       "      <td>14994</td>\n",
       "      <td>3149</td>\n",
       "      <td>13.10</td>\n",
       "    </tr>\n",
       "    <tr>\n",
       "      <th>34</th>\n",
       "      <td>customer_city</td>\n",
       "      <td>object</td>\n",
       "      <td>0</td>\n",
       "      <td>4119</td>\n",
       "      <td>sao paulo</td>\n",
       "      <td>8.13</td>\n",
       "    </tr>\n",
       "    <tr>\n",
       "      <th>35</th>\n",
       "      <td>customer_state</td>\n",
       "      <td>object</td>\n",
       "      <td>0</td>\n",
       "      <td>27</td>\n",
       "      <td>SP</td>\n",
       "      <td>3.07</td>\n",
       "    </tr>\n",
       "    <tr>\n",
       "      <th>36</th>\n",
       "      <td>seller_zip_code_prefix</td>\n",
       "      <td>float64</td>\n",
       "      <td>833</td>\n",
       "      <td>2246</td>\n",
       "      <td>9350.0</td>\n",
       "      <td>8.92</td>\n",
       "    </tr>\n",
       "    <tr>\n",
       "      <th>37</th>\n",
       "      <td>seller_city</td>\n",
       "      <td>object</td>\n",
       "      <td>833</td>\n",
       "      <td>611</td>\n",
       "      <td>maua</td>\n",
       "      <td>5.99</td>\n",
       "    </tr>\n",
       "    <tr>\n",
       "      <th>38</th>\n",
       "      <td>seller_state</td>\n",
       "      <td>object</td>\n",
       "      <td>833</td>\n",
       "      <td>23</td>\n",
       "      <td>SP</td>\n",
       "      <td>1.66</td>\n",
       "    </tr>\n",
       "  </tbody>\n",
       "</table>\n",
       "</div>"
      ],
      "text/plain": [
       "                           Column   dtypes  # Missing  # Unique  \\\n",
       "0                        order_id   object          0     99441   \n",
       "1                     customer_id   object          0     99441   \n",
       "2                    order_status   object          0         8   \n",
       "3        order_purchase_timestamp   object          0     98875   \n",
       "4               order_approved_at   object        177     90733   \n",
       "5    order_delivered_carrier_date   object       2086     81018   \n",
       "6   order_delivered_customer_date   object       3421     95664   \n",
       "7   order_estimated_delivery_date   object          0       459   \n",
       "8                   order_item_id  float64        833        21   \n",
       "9                      product_id   object        833     32951   \n",
       "10                      seller_id   object        833      3095   \n",
       "11            shipping_limit_date   object        833     93318   \n",
       "12                          price  float64        833      5968   \n",
       "13                  freight_value  float64        833      6999   \n",
       "14             payment_sequential  float64          3        29   \n",
       "15                   payment_type   object          3         5   \n",
       "16           payment_installments  float64          3        24   \n",
       "17                  payment_value  float64          3     29077   \n",
       "18                      review_id   object        997     98410   \n",
       "19                   review_score  float64        997         5   \n",
       "20           review_comment_title   object     105154      4527   \n",
       "21         review_comment_message   object      68898     36159   \n",
       "22           review_creation_date   object        997       636   \n",
       "23        review_answer_timestamp   object        997     98248   \n",
       "24          product_category_name   object       2542        73   \n",
       "25            product_name_lenght  float64       2542        66   \n",
       "26     product_description_lenght  float64       2542      2960   \n",
       "27             product_photos_qty  float64       2542        19   \n",
       "28               product_weight_g  float64        853      2204   \n",
       "29              product_length_cm  float64        853        99   \n",
       "30              product_height_cm  float64        853       102   \n",
       "31               product_width_cm  float64        853        95   \n",
       "32             customer_unique_id   object          0     96096   \n",
       "33       customer_zip_code_prefix    int64          0     14994   \n",
       "34                  customer_city   object          0      4119   \n",
       "35                 customer_state   object          0        27   \n",
       "36         seller_zip_code_prefix  float64        833      2246   \n",
       "37                    seller_city   object        833       611   \n",
       "38                   seller_state   object        833        23   \n",
       "\n",
       "                                              Example  Entropy  \n",
       "0                    e481f51cbdc54678b7cc49136f2d6af7    16.46  \n",
       "1                    9ef432eb6251297304e76186b10a928d    16.46  \n",
       "2                                           delivered     0.25  \n",
       "3                                 2017-10-02 10:56:33    16.44  \n",
       "4                                 2017-10-02 11:07:15    16.28  \n",
       "5                                 2017-10-04 19:55:00    16.03  \n",
       "6                                 2017-10-10 21:25:13    16.40  \n",
       "7                                 2017-10-18 00:00:00     8.47  \n",
       "8                                                 1.0     0.72  \n",
       "9                    87285b34884572647811a353c7ac498a    13.63  \n",
       "10                   3504c0cb71d7fa48d967e0e4c94d59d9     9.48  \n",
       "11                                2017-10-06 11:07:15    16.34  \n",
       "12                                              29.99     9.58  \n",
       "13                                               8.72    10.51  \n",
       "14                                                1.0     0.34  \n",
       "15                                        credit_card     1.10  \n",
       "16                                                1.0     2.47  \n",
       "17                                              18.12    13.98  \n",
       "18                   a54f0611adc9ed256b57ede6b6eb5114    16.44  \n",
       "19                                                4.0     1.77  \n",
       "20                                                NaN     9.97  \n",
       "21  Não testei o produto ainda, mas ele veio corre...    14.69  \n",
       "22                                2017-10-11 00:00:00     8.77  \n",
       "23                                2017-10-12 03:43:48    16.44  \n",
       "24                              utilidades_domesticas     4.72  \n",
       "25                                               40.0     5.03  \n",
       "26                                              268.0    10.44  \n",
       "27                                                4.0     2.17  \n",
       "28                                              500.0     7.62  \n",
       "29                                               19.0     5.02  \n",
       "30                                                8.0     5.09  \n",
       "31                                               13.0     4.80  \n",
       "32                   7c396fd4830fd04220f754e42b4e5bff    16.38  \n",
       "33                                               3149    13.10  \n",
       "34                                          sao paulo     8.13  \n",
       "35                                                 SP     3.07  \n",
       "36                                             9350.0     8.92  \n",
       "37                                               maua     5.99  \n",
       "38                                                 SP     1.66  "
      ]
     },
     "execution_count": 23,
     "metadata": {},
     "output_type": "execute_result"
    }
   ],
   "source": [
    "def df_summary(df):\n",
    "    print(f\"Dataset Shape: {df.shape}\")\n",
    "    summary = pd.DataFrame(df.dtypes,columns=['dtypes'])\n",
    "    summary = summary.reset_index()\n",
    "    summary['Column'] = summary['index']\n",
    "    summary = summary[['Column','dtypes']]\n",
    "    summary['# Missing'] = df.isnull().sum().values    \n",
    "    summary['# Unique'] = df.nunique().values\n",
    "    summary['Example'] = df.loc[0].values\n",
    "\n",
    "    for name in summary['Column'].value_counts().index:\n",
    "        summary.loc[summary['Column'] == name, 'Entropy'] = round(stats.entropy(df[name].value_counts(normalize=True), base=2),2) \n",
    "\n",
    "    return summary\n",
    "    \n",
    "df_summary(ecommerce_df)"
   ]
  },
  {
   "cell_type": "code",
   "execution_count": 24,
   "id": "40ac8c1f-f41a-40f4-95b0-5a4f3d183d5a",
   "metadata": {
    "tags": []
   },
   "outputs": [
    {
     "name": "stdout",
     "output_type": "stream",
     "text": [
      "Datetime columns identified:\n",
      "['order_purchase_timestamp', 'order_approved_at', 'order_delivered_carrier_date', 'order_delivered_customer_date', 'order_estimated_delivery_date', 'shipping_limit_date', 'review_creation_date', 'review_answer_timestamp']\n"
     ]
    }
   ],
   "source": [
    "datetime_columns = [col for col in ecommerce_df.columns if any(keyword in col for keyword in ['timestamp', 'date', 'approved_at'])]\n",
    "\n",
    "# Print the identified datetime columns\n",
    "print(\"Datetime columns identified:\")\n",
    "print(datetime_columns)\n"
   ]
  },
  {
   "cell_type": "code",
   "execution_count": 25,
   "id": "df4f17f8-b898-483b-859c-812e6db8851b",
   "metadata": {
    "tags": []
   },
   "outputs": [
    {
     "data": {
      "text/html": [
       "<div>\n",
       "<style scoped>\n",
       "    .dataframe tbody tr th:only-of-type {\n",
       "        vertical-align: middle;\n",
       "    }\n",
       "\n",
       "    .dataframe tbody tr th {\n",
       "        vertical-align: top;\n",
       "    }\n",
       "\n",
       "    .dataframe thead th {\n",
       "        text-align: right;\n",
       "    }\n",
       "</style>\n",
       "<table border=\"1\" class=\"dataframe\">\n",
       "  <thead>\n",
       "    <tr style=\"text-align: right;\">\n",
       "      <th></th>\n",
       "      <th>order_id</th>\n",
       "      <th>customer_id</th>\n",
       "      <th>order_status</th>\n",
       "      <th>order_purchase_timestamp</th>\n",
       "      <th>order_approved_at</th>\n",
       "      <th>order_delivered_carrier_date</th>\n",
       "      <th>order_delivered_customer_date</th>\n",
       "      <th>order_estimated_delivery_date</th>\n",
       "      <th>order_item_id</th>\n",
       "      <th>product_id</th>\n",
       "      <th>...</th>\n",
       "      <th>product_length_cm</th>\n",
       "      <th>product_height_cm</th>\n",
       "      <th>product_width_cm</th>\n",
       "      <th>customer_unique_id</th>\n",
       "      <th>customer_zip_code_prefix</th>\n",
       "      <th>customer_city</th>\n",
       "      <th>customer_state</th>\n",
       "      <th>seller_zip_code_prefix</th>\n",
       "      <th>seller_city</th>\n",
       "      <th>seller_state</th>\n",
       "    </tr>\n",
       "  </thead>\n",
       "  <tbody>\n",
       "    <tr>\n",
       "      <th>0</th>\n",
       "      <td>e481f51cbdc54678b7cc49136f2d6af7</td>\n",
       "      <td>9ef432eb6251297304e76186b10a928d</td>\n",
       "      <td>delivered</td>\n",
       "      <td>2017-10-02 10:56:33</td>\n",
       "      <td>2017-10-02 11:07:15</td>\n",
       "      <td>2017-10-04 19:55:00</td>\n",
       "      <td>2017-10-10 21:25:13</td>\n",
       "      <td>2017-10-18</td>\n",
       "      <td>1.0</td>\n",
       "      <td>87285b34884572647811a353c7ac498a</td>\n",
       "      <td>...</td>\n",
       "      <td>19.0</td>\n",
       "      <td>8.0</td>\n",
       "      <td>13.0</td>\n",
       "      <td>7c396fd4830fd04220f754e42b4e5bff</td>\n",
       "      <td>3149</td>\n",
       "      <td>sao paulo</td>\n",
       "      <td>SP</td>\n",
       "      <td>9350.0</td>\n",
       "      <td>maua</td>\n",
       "      <td>SP</td>\n",
       "    </tr>\n",
       "    <tr>\n",
       "      <th>1</th>\n",
       "      <td>e481f51cbdc54678b7cc49136f2d6af7</td>\n",
       "      <td>9ef432eb6251297304e76186b10a928d</td>\n",
       "      <td>delivered</td>\n",
       "      <td>2017-10-02 10:56:33</td>\n",
       "      <td>2017-10-02 11:07:15</td>\n",
       "      <td>2017-10-04 19:55:00</td>\n",
       "      <td>2017-10-10 21:25:13</td>\n",
       "      <td>2017-10-18</td>\n",
       "      <td>1.0</td>\n",
       "      <td>87285b34884572647811a353c7ac498a</td>\n",
       "      <td>...</td>\n",
       "      <td>19.0</td>\n",
       "      <td>8.0</td>\n",
       "      <td>13.0</td>\n",
       "      <td>7c396fd4830fd04220f754e42b4e5bff</td>\n",
       "      <td>3149</td>\n",
       "      <td>sao paulo</td>\n",
       "      <td>SP</td>\n",
       "      <td>9350.0</td>\n",
       "      <td>maua</td>\n",
       "      <td>SP</td>\n",
       "    </tr>\n",
       "    <tr>\n",
       "      <th>2</th>\n",
       "      <td>e481f51cbdc54678b7cc49136f2d6af7</td>\n",
       "      <td>9ef432eb6251297304e76186b10a928d</td>\n",
       "      <td>delivered</td>\n",
       "      <td>2017-10-02 10:56:33</td>\n",
       "      <td>2017-10-02 11:07:15</td>\n",
       "      <td>2017-10-04 19:55:00</td>\n",
       "      <td>2017-10-10 21:25:13</td>\n",
       "      <td>2017-10-18</td>\n",
       "      <td>1.0</td>\n",
       "      <td>87285b34884572647811a353c7ac498a</td>\n",
       "      <td>...</td>\n",
       "      <td>19.0</td>\n",
       "      <td>8.0</td>\n",
       "      <td>13.0</td>\n",
       "      <td>7c396fd4830fd04220f754e42b4e5bff</td>\n",
       "      <td>3149</td>\n",
       "      <td>sao paulo</td>\n",
       "      <td>SP</td>\n",
       "      <td>9350.0</td>\n",
       "      <td>maua</td>\n",
       "      <td>SP</td>\n",
       "    </tr>\n",
       "    <tr>\n",
       "      <th>3</th>\n",
       "      <td>128e10d95713541c87cd1a2e48201934</td>\n",
       "      <td>a20e8105f23924cd00833fd87daa0831</td>\n",
       "      <td>delivered</td>\n",
       "      <td>2017-08-15 18:29:31</td>\n",
       "      <td>2017-08-15 20:05:16</td>\n",
       "      <td>2017-08-17 15:28:33</td>\n",
       "      <td>2017-08-18 14:44:43</td>\n",
       "      <td>2017-08-28</td>\n",
       "      <td>1.0</td>\n",
       "      <td>87285b34884572647811a353c7ac498a</td>\n",
       "      <td>...</td>\n",
       "      <td>19.0</td>\n",
       "      <td>8.0</td>\n",
       "      <td>13.0</td>\n",
       "      <td>3a51803cc0d012c3b5dc8b7528cb05f7</td>\n",
       "      <td>3366</td>\n",
       "      <td>sao paulo</td>\n",
       "      <td>SP</td>\n",
       "      <td>9350.0</td>\n",
       "      <td>maua</td>\n",
       "      <td>SP</td>\n",
       "    </tr>\n",
       "    <tr>\n",
       "      <th>4</th>\n",
       "      <td>0e7e841ddf8f8f2de2bad69267ecfbcf</td>\n",
       "      <td>26c7ac168e1433912a51b924fbd34d34</td>\n",
       "      <td>delivered</td>\n",
       "      <td>2017-08-02 18:24:47</td>\n",
       "      <td>2017-08-02 18:43:15</td>\n",
       "      <td>2017-08-04 17:35:43</td>\n",
       "      <td>2017-08-07 18:30:01</td>\n",
       "      <td>2017-08-15</td>\n",
       "      <td>1.0</td>\n",
       "      <td>87285b34884572647811a353c7ac498a</td>\n",
       "      <td>...</td>\n",
       "      <td>19.0</td>\n",
       "      <td>8.0</td>\n",
       "      <td>13.0</td>\n",
       "      <td>ef0996a1a279c26e7ecbd737be23d235</td>\n",
       "      <td>2290</td>\n",
       "      <td>sao paulo</td>\n",
       "      <td>SP</td>\n",
       "      <td>9350.0</td>\n",
       "      <td>maua</td>\n",
       "      <td>SP</td>\n",
       "    </tr>\n",
       "  </tbody>\n",
       "</table>\n",
       "<p>5 rows × 39 columns</p>\n",
       "</div>"
      ],
      "text/plain": [
       "                           order_id                       customer_id  \\\n",
       "0  e481f51cbdc54678b7cc49136f2d6af7  9ef432eb6251297304e76186b10a928d   \n",
       "1  e481f51cbdc54678b7cc49136f2d6af7  9ef432eb6251297304e76186b10a928d   \n",
       "2  e481f51cbdc54678b7cc49136f2d6af7  9ef432eb6251297304e76186b10a928d   \n",
       "3  128e10d95713541c87cd1a2e48201934  a20e8105f23924cd00833fd87daa0831   \n",
       "4  0e7e841ddf8f8f2de2bad69267ecfbcf  26c7ac168e1433912a51b924fbd34d34   \n",
       "\n",
       "  order_status order_purchase_timestamp   order_approved_at  \\\n",
       "0    delivered      2017-10-02 10:56:33 2017-10-02 11:07:15   \n",
       "1    delivered      2017-10-02 10:56:33 2017-10-02 11:07:15   \n",
       "2    delivered      2017-10-02 10:56:33 2017-10-02 11:07:15   \n",
       "3    delivered      2017-08-15 18:29:31 2017-08-15 20:05:16   \n",
       "4    delivered      2017-08-02 18:24:47 2017-08-02 18:43:15   \n",
       "\n",
       "  order_delivered_carrier_date order_delivered_customer_date  \\\n",
       "0          2017-10-04 19:55:00           2017-10-10 21:25:13   \n",
       "1          2017-10-04 19:55:00           2017-10-10 21:25:13   \n",
       "2          2017-10-04 19:55:00           2017-10-10 21:25:13   \n",
       "3          2017-08-17 15:28:33           2017-08-18 14:44:43   \n",
       "4          2017-08-04 17:35:43           2017-08-07 18:30:01   \n",
       "\n",
       "  order_estimated_delivery_date  order_item_id  \\\n",
       "0                    2017-10-18            1.0   \n",
       "1                    2017-10-18            1.0   \n",
       "2                    2017-10-18            1.0   \n",
       "3                    2017-08-28            1.0   \n",
       "4                    2017-08-15            1.0   \n",
       "\n",
       "                         product_id  ... product_length_cm product_height_cm  \\\n",
       "0  87285b34884572647811a353c7ac498a  ...              19.0               8.0   \n",
       "1  87285b34884572647811a353c7ac498a  ...              19.0               8.0   \n",
       "2  87285b34884572647811a353c7ac498a  ...              19.0               8.0   \n",
       "3  87285b34884572647811a353c7ac498a  ...              19.0               8.0   \n",
       "4  87285b34884572647811a353c7ac498a  ...              19.0               8.0   \n",
       "\n",
       "   product_width_cm                customer_unique_id  \\\n",
       "0              13.0  7c396fd4830fd04220f754e42b4e5bff   \n",
       "1              13.0  7c396fd4830fd04220f754e42b4e5bff   \n",
       "2              13.0  7c396fd4830fd04220f754e42b4e5bff   \n",
       "3              13.0  3a51803cc0d012c3b5dc8b7528cb05f7   \n",
       "4              13.0  ef0996a1a279c26e7ecbd737be23d235   \n",
       "\n",
       "   customer_zip_code_prefix customer_city  customer_state  \\\n",
       "0                      3149     sao paulo              SP   \n",
       "1                      3149     sao paulo              SP   \n",
       "2                      3149     sao paulo              SP   \n",
       "3                      3366     sao paulo              SP   \n",
       "4                      2290     sao paulo              SP   \n",
       "\n",
       "   seller_zip_code_prefix seller_city  seller_state  \n",
       "0                  9350.0        maua            SP  \n",
       "1                  9350.0        maua            SP  \n",
       "2                  9350.0        maua            SP  \n",
       "3                  9350.0        maua            SP  \n",
       "4                  9350.0        maua            SP  \n",
       "\n",
       "[5 rows x 39 columns]"
      ]
     },
     "execution_count": 25,
     "metadata": {},
     "output_type": "execute_result"
    }
   ],
   "source": [
    "# Concert to DateTime Types\n",
    "ecommerce_df[datetime_columns] = ecommerce_df[datetime_columns].apply(pd.to_datetime)\n",
    "\n",
    "ecommerce_df.head(5)"
   ]
  },
  {
   "cell_type": "code",
   "execution_count": 26,
   "id": "14df0891-6c32-4f88-aed7-2e56530fcffa",
   "metadata": {
    "tags": []
   },
   "outputs": [
    {
     "name": "stdout",
     "output_type": "stream",
     "text": [
      "Dataset Shape: (119143, 39)\n"
     ]
    },
    {
     "data": {
      "text/html": [
       "<div>\n",
       "<style scoped>\n",
       "    .dataframe tbody tr th:only-of-type {\n",
       "        vertical-align: middle;\n",
       "    }\n",
       "\n",
       "    .dataframe tbody tr th {\n",
       "        vertical-align: top;\n",
       "    }\n",
       "\n",
       "    .dataframe thead th {\n",
       "        text-align: right;\n",
       "    }\n",
       "</style>\n",
       "<table border=\"1\" class=\"dataframe\">\n",
       "  <thead>\n",
       "    <tr style=\"text-align: right;\">\n",
       "      <th></th>\n",
       "      <th>Column</th>\n",
       "      <th>dtypes</th>\n",
       "      <th># Missing</th>\n",
       "      <th># Unique</th>\n",
       "      <th>Example</th>\n",
       "      <th>Entropy</th>\n",
       "    </tr>\n",
       "  </thead>\n",
       "  <tbody>\n",
       "    <tr>\n",
       "      <th>0</th>\n",
       "      <td>order_id</td>\n",
       "      <td>object</td>\n",
       "      <td>0</td>\n",
       "      <td>99441</td>\n",
       "      <td>e481f51cbdc54678b7cc49136f2d6af7</td>\n",
       "      <td>16.46</td>\n",
       "    </tr>\n",
       "    <tr>\n",
       "      <th>1</th>\n",
       "      <td>customer_id</td>\n",
       "      <td>object</td>\n",
       "      <td>0</td>\n",
       "      <td>99441</td>\n",
       "      <td>9ef432eb6251297304e76186b10a928d</td>\n",
       "      <td>16.46</td>\n",
       "    </tr>\n",
       "    <tr>\n",
       "      <th>2</th>\n",
       "      <td>order_status</td>\n",
       "      <td>object</td>\n",
       "      <td>0</td>\n",
       "      <td>8</td>\n",
       "      <td>delivered</td>\n",
       "      <td>0.25</td>\n",
       "    </tr>\n",
       "    <tr>\n",
       "      <th>3</th>\n",
       "      <td>order_purchase_timestamp</td>\n",
       "      <td>datetime64[ns]</td>\n",
       "      <td>0</td>\n",
       "      <td>98875</td>\n",
       "      <td>2017-10-02 10:56:33</td>\n",
       "      <td>16.44</td>\n",
       "    </tr>\n",
       "    <tr>\n",
       "      <th>4</th>\n",
       "      <td>order_approved_at</td>\n",
       "      <td>datetime64[ns]</td>\n",
       "      <td>177</td>\n",
       "      <td>90733</td>\n",
       "      <td>2017-10-02 11:07:15</td>\n",
       "      <td>16.28</td>\n",
       "    </tr>\n",
       "    <tr>\n",
       "      <th>5</th>\n",
       "      <td>order_delivered_carrier_date</td>\n",
       "      <td>datetime64[ns]</td>\n",
       "      <td>2086</td>\n",
       "      <td>81018</td>\n",
       "      <td>2017-10-04 19:55:00</td>\n",
       "      <td>16.03</td>\n",
       "    </tr>\n",
       "    <tr>\n",
       "      <th>6</th>\n",
       "      <td>order_delivered_customer_date</td>\n",
       "      <td>datetime64[ns]</td>\n",
       "      <td>3421</td>\n",
       "      <td>95664</td>\n",
       "      <td>2017-10-10 21:25:13</td>\n",
       "      <td>16.40</td>\n",
       "    </tr>\n",
       "    <tr>\n",
       "      <th>7</th>\n",
       "      <td>order_estimated_delivery_date</td>\n",
       "      <td>datetime64[ns]</td>\n",
       "      <td>0</td>\n",
       "      <td>459</td>\n",
       "      <td>2017-10-18 00:00:00</td>\n",
       "      <td>8.47</td>\n",
       "    </tr>\n",
       "    <tr>\n",
       "      <th>8</th>\n",
       "      <td>order_item_id</td>\n",
       "      <td>float64</td>\n",
       "      <td>833</td>\n",
       "      <td>21</td>\n",
       "      <td>1.0</td>\n",
       "      <td>0.72</td>\n",
       "    </tr>\n",
       "    <tr>\n",
       "      <th>9</th>\n",
       "      <td>product_id</td>\n",
       "      <td>object</td>\n",
       "      <td>833</td>\n",
       "      <td>32951</td>\n",
       "      <td>87285b34884572647811a353c7ac498a</td>\n",
       "      <td>13.63</td>\n",
       "    </tr>\n",
       "    <tr>\n",
       "      <th>10</th>\n",
       "      <td>seller_id</td>\n",
       "      <td>object</td>\n",
       "      <td>833</td>\n",
       "      <td>3095</td>\n",
       "      <td>3504c0cb71d7fa48d967e0e4c94d59d9</td>\n",
       "      <td>9.48</td>\n",
       "    </tr>\n",
       "    <tr>\n",
       "      <th>11</th>\n",
       "      <td>shipping_limit_date</td>\n",
       "      <td>datetime64[ns]</td>\n",
       "      <td>833</td>\n",
       "      <td>93318</td>\n",
       "      <td>2017-10-06 11:07:15</td>\n",
       "      <td>16.34</td>\n",
       "    </tr>\n",
       "    <tr>\n",
       "      <th>12</th>\n",
       "      <td>price</td>\n",
       "      <td>float64</td>\n",
       "      <td>833</td>\n",
       "      <td>5968</td>\n",
       "      <td>29.99</td>\n",
       "      <td>9.58</td>\n",
       "    </tr>\n",
       "    <tr>\n",
       "      <th>13</th>\n",
       "      <td>freight_value</td>\n",
       "      <td>float64</td>\n",
       "      <td>833</td>\n",
       "      <td>6999</td>\n",
       "      <td>8.72</td>\n",
       "      <td>10.51</td>\n",
       "    </tr>\n",
       "    <tr>\n",
       "      <th>14</th>\n",
       "      <td>payment_sequential</td>\n",
       "      <td>float64</td>\n",
       "      <td>3</td>\n",
       "      <td>29</td>\n",
       "      <td>1.0</td>\n",
       "      <td>0.34</td>\n",
       "    </tr>\n",
       "    <tr>\n",
       "      <th>15</th>\n",
       "      <td>payment_type</td>\n",
       "      <td>object</td>\n",
       "      <td>3</td>\n",
       "      <td>5</td>\n",
       "      <td>credit_card</td>\n",
       "      <td>1.10</td>\n",
       "    </tr>\n",
       "    <tr>\n",
       "      <th>16</th>\n",
       "      <td>payment_installments</td>\n",
       "      <td>float64</td>\n",
       "      <td>3</td>\n",
       "      <td>24</td>\n",
       "      <td>1.0</td>\n",
       "      <td>2.47</td>\n",
       "    </tr>\n",
       "    <tr>\n",
       "      <th>17</th>\n",
       "      <td>payment_value</td>\n",
       "      <td>float64</td>\n",
       "      <td>3</td>\n",
       "      <td>29077</td>\n",
       "      <td>18.12</td>\n",
       "      <td>13.98</td>\n",
       "    </tr>\n",
       "    <tr>\n",
       "      <th>18</th>\n",
       "      <td>review_id</td>\n",
       "      <td>object</td>\n",
       "      <td>997</td>\n",
       "      <td>98410</td>\n",
       "      <td>a54f0611adc9ed256b57ede6b6eb5114</td>\n",
       "      <td>16.44</td>\n",
       "    </tr>\n",
       "    <tr>\n",
       "      <th>19</th>\n",
       "      <td>review_score</td>\n",
       "      <td>float64</td>\n",
       "      <td>997</td>\n",
       "      <td>5</td>\n",
       "      <td>4.0</td>\n",
       "      <td>1.77</td>\n",
       "    </tr>\n",
       "    <tr>\n",
       "      <th>20</th>\n",
       "      <td>review_comment_title</td>\n",
       "      <td>object</td>\n",
       "      <td>105154</td>\n",
       "      <td>4527</td>\n",
       "      <td>NaN</td>\n",
       "      <td>9.97</td>\n",
       "    </tr>\n",
       "    <tr>\n",
       "      <th>21</th>\n",
       "      <td>review_comment_message</td>\n",
       "      <td>object</td>\n",
       "      <td>68898</td>\n",
       "      <td>36159</td>\n",
       "      <td>Não testei o produto ainda, mas ele veio corre...</td>\n",
       "      <td>14.69</td>\n",
       "    </tr>\n",
       "    <tr>\n",
       "      <th>22</th>\n",
       "      <td>review_creation_date</td>\n",
       "      <td>datetime64[ns]</td>\n",
       "      <td>997</td>\n",
       "      <td>636</td>\n",
       "      <td>2017-10-11 00:00:00</td>\n",
       "      <td>8.77</td>\n",
       "    </tr>\n",
       "    <tr>\n",
       "      <th>23</th>\n",
       "      <td>review_answer_timestamp</td>\n",
       "      <td>datetime64[ns]</td>\n",
       "      <td>997</td>\n",
       "      <td>98248</td>\n",
       "      <td>2017-10-12 03:43:48</td>\n",
       "      <td>16.44</td>\n",
       "    </tr>\n",
       "    <tr>\n",
       "      <th>24</th>\n",
       "      <td>product_category_name</td>\n",
       "      <td>object</td>\n",
       "      <td>2542</td>\n",
       "      <td>73</td>\n",
       "      <td>utilidades_domesticas</td>\n",
       "      <td>4.72</td>\n",
       "    </tr>\n",
       "    <tr>\n",
       "      <th>25</th>\n",
       "      <td>product_name_lenght</td>\n",
       "      <td>float64</td>\n",
       "      <td>2542</td>\n",
       "      <td>66</td>\n",
       "      <td>40.0</td>\n",
       "      <td>5.03</td>\n",
       "    </tr>\n",
       "    <tr>\n",
       "      <th>26</th>\n",
       "      <td>product_description_lenght</td>\n",
       "      <td>float64</td>\n",
       "      <td>2542</td>\n",
       "      <td>2960</td>\n",
       "      <td>268.0</td>\n",
       "      <td>10.44</td>\n",
       "    </tr>\n",
       "    <tr>\n",
       "      <th>27</th>\n",
       "      <td>product_photos_qty</td>\n",
       "      <td>float64</td>\n",
       "      <td>2542</td>\n",
       "      <td>19</td>\n",
       "      <td>4.0</td>\n",
       "      <td>2.17</td>\n",
       "    </tr>\n",
       "    <tr>\n",
       "      <th>28</th>\n",
       "      <td>product_weight_g</td>\n",
       "      <td>float64</td>\n",
       "      <td>853</td>\n",
       "      <td>2204</td>\n",
       "      <td>500.0</td>\n",
       "      <td>7.62</td>\n",
       "    </tr>\n",
       "    <tr>\n",
       "      <th>29</th>\n",
       "      <td>product_length_cm</td>\n",
       "      <td>float64</td>\n",
       "      <td>853</td>\n",
       "      <td>99</td>\n",
       "      <td>19.0</td>\n",
       "      <td>5.02</td>\n",
       "    </tr>\n",
       "    <tr>\n",
       "      <th>30</th>\n",
       "      <td>product_height_cm</td>\n",
       "      <td>float64</td>\n",
       "      <td>853</td>\n",
       "      <td>102</td>\n",
       "      <td>8.0</td>\n",
       "      <td>5.09</td>\n",
       "    </tr>\n",
       "    <tr>\n",
       "      <th>31</th>\n",
       "      <td>product_width_cm</td>\n",
       "      <td>float64</td>\n",
       "      <td>853</td>\n",
       "      <td>95</td>\n",
       "      <td>13.0</td>\n",
       "      <td>4.80</td>\n",
       "    </tr>\n",
       "    <tr>\n",
       "      <th>32</th>\n",
       "      <td>customer_unique_id</td>\n",
       "      <td>object</td>\n",
       "      <td>0</td>\n",
       "      <td>96096</td>\n",
       "      <td>7c396fd4830fd04220f754e42b4e5bff</td>\n",
       "      <td>16.38</td>\n",
       "    </tr>\n",
       "    <tr>\n",
       "      <th>33</th>\n",
       "      <td>customer_zip_code_prefix</td>\n",
       "      <td>int64</td>\n",
       "      <td>0</td>\n",
       "      <td>14994</td>\n",
       "      <td>3149</td>\n",
       "      <td>13.10</td>\n",
       "    </tr>\n",
       "    <tr>\n",
       "      <th>34</th>\n",
       "      <td>customer_city</td>\n",
       "      <td>object</td>\n",
       "      <td>0</td>\n",
       "      <td>4119</td>\n",
       "      <td>sao paulo</td>\n",
       "      <td>8.13</td>\n",
       "    </tr>\n",
       "    <tr>\n",
       "      <th>35</th>\n",
       "      <td>customer_state</td>\n",
       "      <td>object</td>\n",
       "      <td>0</td>\n",
       "      <td>27</td>\n",
       "      <td>SP</td>\n",
       "      <td>3.07</td>\n",
       "    </tr>\n",
       "    <tr>\n",
       "      <th>36</th>\n",
       "      <td>seller_zip_code_prefix</td>\n",
       "      <td>float64</td>\n",
       "      <td>833</td>\n",
       "      <td>2246</td>\n",
       "      <td>9350.0</td>\n",
       "      <td>8.92</td>\n",
       "    </tr>\n",
       "    <tr>\n",
       "      <th>37</th>\n",
       "      <td>seller_city</td>\n",
       "      <td>object</td>\n",
       "      <td>833</td>\n",
       "      <td>611</td>\n",
       "      <td>maua</td>\n",
       "      <td>5.99</td>\n",
       "    </tr>\n",
       "    <tr>\n",
       "      <th>38</th>\n",
       "      <td>seller_state</td>\n",
       "      <td>object</td>\n",
       "      <td>833</td>\n",
       "      <td>23</td>\n",
       "      <td>SP</td>\n",
       "      <td>1.66</td>\n",
       "    </tr>\n",
       "  </tbody>\n",
       "</table>\n",
       "</div>"
      ],
      "text/plain": [
       "                           Column          dtypes  # Missing  # Unique  \\\n",
       "0                        order_id          object          0     99441   \n",
       "1                     customer_id          object          0     99441   \n",
       "2                    order_status          object          0         8   \n",
       "3        order_purchase_timestamp  datetime64[ns]          0     98875   \n",
       "4               order_approved_at  datetime64[ns]        177     90733   \n",
       "5    order_delivered_carrier_date  datetime64[ns]       2086     81018   \n",
       "6   order_delivered_customer_date  datetime64[ns]       3421     95664   \n",
       "7   order_estimated_delivery_date  datetime64[ns]          0       459   \n",
       "8                   order_item_id         float64        833        21   \n",
       "9                      product_id          object        833     32951   \n",
       "10                      seller_id          object        833      3095   \n",
       "11            shipping_limit_date  datetime64[ns]        833     93318   \n",
       "12                          price         float64        833      5968   \n",
       "13                  freight_value         float64        833      6999   \n",
       "14             payment_sequential         float64          3        29   \n",
       "15                   payment_type          object          3         5   \n",
       "16           payment_installments         float64          3        24   \n",
       "17                  payment_value         float64          3     29077   \n",
       "18                      review_id          object        997     98410   \n",
       "19                   review_score         float64        997         5   \n",
       "20           review_comment_title          object     105154      4527   \n",
       "21         review_comment_message          object      68898     36159   \n",
       "22           review_creation_date  datetime64[ns]        997       636   \n",
       "23        review_answer_timestamp  datetime64[ns]        997     98248   \n",
       "24          product_category_name          object       2542        73   \n",
       "25            product_name_lenght         float64       2542        66   \n",
       "26     product_description_lenght         float64       2542      2960   \n",
       "27             product_photos_qty         float64       2542        19   \n",
       "28               product_weight_g         float64        853      2204   \n",
       "29              product_length_cm         float64        853        99   \n",
       "30              product_height_cm         float64        853       102   \n",
       "31               product_width_cm         float64        853        95   \n",
       "32             customer_unique_id          object          0     96096   \n",
       "33       customer_zip_code_prefix           int64          0     14994   \n",
       "34                  customer_city          object          0      4119   \n",
       "35                 customer_state          object          0        27   \n",
       "36         seller_zip_code_prefix         float64        833      2246   \n",
       "37                    seller_city          object        833       611   \n",
       "38                   seller_state          object        833        23   \n",
       "\n",
       "                                              Example  Entropy  \n",
       "0                    e481f51cbdc54678b7cc49136f2d6af7    16.46  \n",
       "1                    9ef432eb6251297304e76186b10a928d    16.46  \n",
       "2                                           delivered     0.25  \n",
       "3                                 2017-10-02 10:56:33    16.44  \n",
       "4                                 2017-10-02 11:07:15    16.28  \n",
       "5                                 2017-10-04 19:55:00    16.03  \n",
       "6                                 2017-10-10 21:25:13    16.40  \n",
       "7                                 2017-10-18 00:00:00     8.47  \n",
       "8                                                 1.0     0.72  \n",
       "9                    87285b34884572647811a353c7ac498a    13.63  \n",
       "10                   3504c0cb71d7fa48d967e0e4c94d59d9     9.48  \n",
       "11                                2017-10-06 11:07:15    16.34  \n",
       "12                                              29.99     9.58  \n",
       "13                                               8.72    10.51  \n",
       "14                                                1.0     0.34  \n",
       "15                                        credit_card     1.10  \n",
       "16                                                1.0     2.47  \n",
       "17                                              18.12    13.98  \n",
       "18                   a54f0611adc9ed256b57ede6b6eb5114    16.44  \n",
       "19                                                4.0     1.77  \n",
       "20                                                NaN     9.97  \n",
       "21  Não testei o produto ainda, mas ele veio corre...    14.69  \n",
       "22                                2017-10-11 00:00:00     8.77  \n",
       "23                                2017-10-12 03:43:48    16.44  \n",
       "24                              utilidades_domesticas     4.72  \n",
       "25                                               40.0     5.03  \n",
       "26                                              268.0    10.44  \n",
       "27                                                4.0     2.17  \n",
       "28                                              500.0     7.62  \n",
       "29                                               19.0     5.02  \n",
       "30                                                8.0     5.09  \n",
       "31                                               13.0     4.80  \n",
       "32                   7c396fd4830fd04220f754e42b4e5bff    16.38  \n",
       "33                                               3149    13.10  \n",
       "34                                          sao paulo     8.13  \n",
       "35                                                 SP     3.07  \n",
       "36                                             9350.0     8.92  \n",
       "37                                               maua     5.99  \n",
       "38                                                 SP     1.66  "
      ]
     },
     "execution_count": 26,
     "metadata": {},
     "output_type": "execute_result"
    }
   ],
   "source": [
    "df_summary(ecommerce_df)"
   ]
  },
  {
   "cell_type": "code",
   "execution_count": 40,
   "id": "6761510a-f327-4f8f-bf77-6474a0efeae7",
   "metadata": {
    "tags": []
   },
   "outputs": [
    {
     "name": "stdout",
     "output_type": "stream",
     "text": [
      "Numerical columns identified:\n",
      "['price', 'freight_value', 'payment_sequential', 'payment_installments', 'payment_value', 'review_score', 'product_name_lenght', 'product_description_lenght', 'product_photos_qty', 'product_weight_g', 'product_length_cm', 'product_height_cm', 'product_width_cm']\n"
     ]
    }
   ],
   "source": [
    "# Identify numerical columns\n",
    "numerical_columns = ecommerce_df.select_dtypes(include=['number']).columns.tolist()\n",
    "\n",
    "# Filter out columns that contain 'zip_code' and 'item_id' in their names\n",
    "numerical_columns = [col for col in numerical_columns if 'zip_code' not in col and 'item_id' not in col]\n",
    "\n",
    "# Print the identified numerical columns\n",
    "print(\"Numerical columns identified:\")\n",
    "print(numerical_columns)"
   ]
  },
  {
   "cell_type": "code",
   "execution_count": 43,
   "id": "80493bed-5b73-489a-ad43-9620dc6e81e4",
   "metadata": {
    "tags": []
   },
   "outputs": [],
   "source": [
    "numeric_df = ecommerce_df[numerical_columns]\n",
    "corr = numeric_df.corr()"
   ]
  },
  {
   "cell_type": "code",
   "execution_count": 44,
   "id": "d1e608cf-f639-4be3-80cc-ab94d12f6d75",
   "metadata": {
    "tags": []
   },
   "outputs": [
    {
     "data": {
      "image/png": "[encoded data removed]",
      "text/plain": [
       "<Figure size 1000x800 with 2 Axes>"
      ]
     },
     "metadata": {},
     "output_type": "display_data"
    }
   ],
   "source": [
    "plt.figure(figsize=(10, 8))\n",
    "sns.heatmap(corr, cmap='RdBu', norm=plt.Normalize(-1,1), annot=True, fmt='.2f')\n",
    "plt.title(\"Correlation Heatmap\")\n",
    "plt.show()"
   ]
  },
  {
   "cell_type": "markdown",
   "id": "791b85e1-5cd2-48fc-92f8-14220bab0515",
   "metadata": {},
   "source": [
    "#### the price, freight value (transportation and delivery cost), and product weight are most correlated with the payment value ####"
   ]
  },
  {
   "cell_type": "code",
   "execution_count": 45,
   "id": "f098d3c9-b06f-414e-af44-e123afa157ed",
   "metadata": {
    "tags": []
   },
   "outputs": [
    {
     "data": {
      "text/html": [
       "<div>\n",
       "<style scoped>\n",
       "    .dataframe tbody tr th:only-of-type {\n",
       "        vertical-align: middle;\n",
       "    }\n",
       "\n",
       "    .dataframe tbody tr th {\n",
       "        vertical-align: top;\n",
       "    }\n",
       "\n",
       "    .dataframe thead th {\n",
       "        text-align: right;\n",
       "    }\n",
       "</style>\n",
       "<table border=\"1\" class=\"dataframe\">\n",
       "  <thead>\n",
       "    <tr style=\"text-align: right;\">\n",
       "      <th></th>\n",
       "      <th>price</th>\n",
       "      <th>freight_value</th>\n",
       "      <th>payment_sequential</th>\n",
       "      <th>payment_installments</th>\n",
       "      <th>payment_value</th>\n",
       "      <th>review_score</th>\n",
       "      <th>product_name_lenght</th>\n",
       "      <th>product_description_lenght</th>\n",
       "      <th>product_photos_qty</th>\n",
       "      <th>product_weight_g</th>\n",
       "      <th>product_length_cm</th>\n",
       "      <th>product_height_cm</th>\n",
       "      <th>product_width_cm</th>\n",
       "    </tr>\n",
       "  </thead>\n",
       "  <tbody>\n",
       "    <tr>\n",
       "      <th>price</th>\n",
       "      <td>1.000000</td>\n",
       "      <td>0.415938</td>\n",
       "      <td>0.006839</td>\n",
       "      <td>0.277642</td>\n",
       "      <td>0.739236</td>\n",
       "      <td>-0.004492</td>\n",
       "      <td>0.018026</td>\n",
       "      <td>0.201759</td>\n",
       "      <td>0.052818</td>\n",
       "      <td>0.339367</td>\n",
       "      <td>0.145587</td>\n",
       "      <td>0.224309</td>\n",
       "      <td>0.172629</td>\n",
       "    </tr>\n",
       "    <tr>\n",
       "      <th>freight_value</th>\n",
       "      <td>0.415938</td>\n",
       "      <td>1.000000</td>\n",
       "      <td>0.022345</td>\n",
       "      <td>0.185674</td>\n",
       "      <td>0.373762</td>\n",
       "      <td>-0.037013</td>\n",
       "      <td>0.022628</td>\n",
       "      <td>0.096506</td>\n",
       "      <td>0.022329</td>\n",
       "      <td>0.611587</td>\n",
       "      <td>0.309672</td>\n",
       "      <td>0.393865</td>\n",
       "      <td>0.325325</td>\n",
       "    </tr>\n",
       "    <tr>\n",
       "      <th>payment_value</th>\n",
       "      <td>0.739236</td>\n",
       "      <td>0.373762</td>\n",
       "      <td>-0.064467</td>\n",
       "      <td>0.273647</td>\n",
       "      <td>1.000000</td>\n",
       "      <td>-0.082343</td>\n",
       "      <td>0.002371</td>\n",
       "      <td>0.156108</td>\n",
       "      <td>0.010075</td>\n",
       "      <td>0.303326</td>\n",
       "      <td>0.138755</td>\n",
       "      <td>0.217155</td>\n",
       "      <td>0.148606</td>\n",
       "    </tr>\n",
       "    <tr>\n",
       "      <th>product_weight_g</th>\n",
       "      <td>0.339367</td>\n",
       "      <td>0.611587</td>\n",
       "      <td>0.043985</td>\n",
       "      <td>0.177491</td>\n",
       "      <td>0.303326</td>\n",
       "      <td>-0.028622</td>\n",
       "      <td>0.020736</td>\n",
       "      <td>0.063577</td>\n",
       "      <td>0.021535</td>\n",
       "      <td>1.000000</td>\n",
       "      <td>0.463108</td>\n",
       "      <td>0.581970</td>\n",
       "      <td>0.506897</td>\n",
       "    </tr>\n",
       "  </tbody>\n",
       "</table>\n",
       "</div>"
      ],
      "text/plain": [
       "                     price  freight_value  payment_sequential  \\\n",
       "price             1.000000       0.415938            0.006839   \n",
       "freight_value     0.415938       1.000000            0.022345   \n",
       "payment_value     0.739236       0.373762           -0.064467   \n",
       "product_weight_g  0.339367       0.611587            0.043985   \n",
       "\n",
       "                  payment_installments  payment_value  review_score  \\\n",
       "price                         0.277642       0.739236     -0.004492   \n",
       "freight_value                 0.185674       0.373762     -0.037013   \n",
       "payment_value                 0.273647       1.000000     -0.082343   \n",
       "product_weight_g              0.177491       0.303326     -0.028622   \n",
       "\n",
       "                  product_name_lenght  product_description_lenght  \\\n",
       "price                        0.018026                    0.201759   \n",
       "freight_value                0.022628                    0.096506   \n",
       "payment_value                0.002371                    0.156108   \n",
       "product_weight_g             0.020736                    0.063577   \n",
       "\n",
       "                  product_photos_qty  product_weight_g  product_length_cm  \\\n",
       "price                       0.052818          0.339367           0.145587   \n",
       "freight_value               0.022329          0.611587           0.309672   \n",
       "payment_value               0.010075          0.303326           0.138755   \n",
       "product_weight_g            0.021535          1.000000           0.463108   \n",
       "\n",
       "                  product_height_cm  product_width_cm  \n",
       "price                      0.224309          0.172629  \n",
       "freight_value              0.393865          0.325325  \n",
       "payment_value              0.217155          0.148606  \n",
       "product_weight_g           0.581970          0.506897  "
      ]
     },
     "execution_count": 45,
     "metadata": {},
     "output_type": "execute_result"
    }
   ],
   "source": [
    "corr_payment_value = corr.loc[(corr['payment_value'] > 0.3) | (corr['payment_value'] <= -0.3)]\n",
    "corr_payment_value"
   ]
  },
  {
   "cell_type": "code",
   "execution_count": 46,
   "id": "63496cd2-add5-4837-a819-f3006d21b553",
   "metadata": {
    "tags": []
   },
   "outputs": [
    {
     "data": {
      "text/html": [
       "<div>\n",
       "<style scoped>\n",
       "    .dataframe tbody tr th:only-of-type {\n",
       "        vertical-align: middle;\n",
       "    }\n",
       "\n",
       "    .dataframe tbody tr th {\n",
       "        vertical-align: top;\n",
       "    }\n",
       "\n",
       "    .dataframe thead th {\n",
       "        text-align: right;\n",
       "    }\n",
       "</style>\n",
       "<table border=\"1\" class=\"dataframe\">\n",
       "  <thead>\n",
       "    <tr style=\"text-align: right;\">\n",
       "      <th></th>\n",
       "      <th>order_purchase_date</th>\n",
       "      <th>order_count</th>\n",
       "    </tr>\n",
       "  </thead>\n",
       "  <tbody>\n",
       "    <tr>\n",
       "      <th>0</th>\n",
       "      <td>2016-09-04</td>\n",
       "      <td>2</td>\n",
       "    </tr>\n",
       "    <tr>\n",
       "      <th>1</th>\n",
       "      <td>2016-09-05</td>\n",
       "      <td>1</td>\n",
       "    </tr>\n",
       "    <tr>\n",
       "      <th>2</th>\n",
       "      <td>2016-09-13</td>\n",
       "      <td>1</td>\n",
       "    </tr>\n",
       "    <tr>\n",
       "      <th>3</th>\n",
       "      <td>2016-09-15</td>\n",
       "      <td>3</td>\n",
       "    </tr>\n",
       "    <tr>\n",
       "      <th>4</th>\n",
       "      <td>2016-10-02</td>\n",
       "      <td>1</td>\n",
       "    </tr>\n",
       "  </tbody>\n",
       "</table>\n",
       "</div>"
      ],
      "text/plain": [
       "  order_purchase_date  order_count\n",
       "0          2016-09-04            2\n",
       "1          2016-09-05            1\n",
       "2          2016-09-13            1\n",
       "3          2016-09-15            3\n",
       "4          2016-10-02            1"
      ]
     },
     "execution_count": 46,
     "metadata": {},
     "output_type": "execute_result"
    }
   ],
   "source": [
    "summary_temp=ecommerce_df.copy()\n",
    "summary_temp['order_purchase_date']=ecommerce_df['order_purchase_timestamp'].dt.date\n",
    "order_counts = summary_temp.groupby('order_purchase_date').size().reset_index(name='order_count')\n",
    "order_counts.head(5)"
   ]
  },
  {
   "cell_type": "code",
   "execution_count": 48,
   "id": "5a133729-f119-403d-9a27-fd651ec76af6",
   "metadata": {
    "tags": []
   },
   "outputs": [
    {
     "data": {
      "image/png": "[encoded data removed]",
      "text/plain": [
       "<Figure size 1400x600 with 1 Axes>"
      ]
     },
     "metadata": {},
     "output_type": "display_data"
    }
   ],
   "source": [
    "# Increase the default font size globally\n",
    "plt.rcParams['font.size'] = 12\n",
    "plt.rcParams['axes.titlesize'] = 16\n",
    "\n",
    "# Line plot\n",
    "plt.figure(figsize=(14, 6))\n",
    "plt.plot(pd.to_datetime(order_counts['order_purchase_date']), order_counts['order_count'])\n",
    "plt.ylabel('Number of orders')\n",
    "plt.title('Number of orders per day')\n",
    "plt.gca().xaxis.set_major_locator(mdates.MonthLocator())\n",
    "plt.xticks(rotation=45)\n",
    "plt.show()"
   ]
  },
  {
   "cell_type": "markdown",
   "id": "68321583-7bc7-4d74-8c54-9550b28e7f08",
   "metadata": {},
   "source": [
    "#### We can see there's a large spike of orders around Christmas, specifically on the 24th of december. The number of orders also seems to be increasing steadily over time ####"
   ]
  },
  {
   "cell_type": "markdown",
   "id": "35df7345-646f-4142-8eff-9b7d44ad7c32",
   "metadata": {
    "tags": []
   },
   "source": [
    "### Check Seasonality of Transporation Prices and Product Prices ###"
   ]
  },
  {
   "cell_type": "code",
   "execution_count": 57,
   "id": "620b826a-090c-4d16-bea9-7710ca80ec94",
   "metadata": {
    "tags": []
   },
   "outputs": [
    {
     "data": {
      "application/vnd.plotly.v1+json": {
       "config": {
        "plotlyServerURL": "https://plot.ly"
       },
       "data": [
        {
         "hovertemplate": "Variable=price<br>Date=%{x}<br>Mean Value=%{y}<extra></extra>",
         "legendgroup": "price",
         "line": {
          "color": "#636efa",
          "dash": "solid"
         },
         "marker": {
          "symbol": "circle"
         },
         "mode": "lines",
         "name": "price",
         "orientation": "v",
         "showlegend": true,
         "type": "scatter",
         "x": [
          "2016-09-30T00:00:00",
          "2016-10-31T00:00:00",
          "2016-11-30T00:00:00",
          "2016-12-31T00:00:00",
          "2017-01-31T00:00:00",
          "2017-02-28T00:00:00",
          "2017-03-31T00:00:00",
          "2017-04-30T00:00:00",
          "2017-05-31T00:00:00",
          "2017-06-30T00:00:00",
          "2017-07-31T00:00:00",
          "2017-08-31T00:00:00",
          "2017-09-30T00:00:00",
          "2017-10-31T00:00:00",
          "2017-11-30T00:00:00",
          "2017-12-31T00:00:00",
          "2018-01-31T00:00:00",
          "2018-02-28T00:00:00",
          "2018-03-31T00:00:00",
          "2018-04-30T00:00:00",
          "2018-05-31T00:00:00",
          "2018-06-30T00:00:00",
          "2018-07-31T00:00:00",
          "2018-08-31T00:00:00",
          "2018-09-30T00:00:00",
          "2018-10-31T00:00:00"
         ],
         "xaxis": "x",
         "y": [
          44.56,
          132.64654545454545,
          null,
          10.9,
          126.97489736070382,
          126.39356488181379,
          124.37283348953451,
          137.07938547486032,
          123.56059392575928,
          119.5362297226583,
          109.8643257622263,
          116.00822741194487,
          129.48741822429906,
          124.16900836745593,
          115.99297493403695,
          117.33262854542697,
          115.50639195629431,
          110.88410496135627,
          119.83119995344506,
          124.724083655706,
          125.46463613169725,
          123.04665089237426,
          126.07414083741163,
          118.53316184351554,
          145,
          null
         ],
         "yaxis": "y"
        },
        {
         "hovertemplate": "Variable=freight_value<br>Date=%{x}<br>Mean Value=%{y}<extra></extra>",
         "legendgroup": "freight_value",
         "line": {
          "color": "#EF553B",
          "dash": "solid"
         },
         "marker": {
          "symbol": "circle"
         },
         "mode": "lines",
         "name": "freight_value",
         "orientation": "v",
         "showlegend": true,
         "type": "scatter",
         "x": [
          "2016-09-30T00:00:00",
          "2016-10-31T00:00:00",
          "2016-11-30T00:00:00",
          "2016-12-31T00:00:00",
          "2017-01-31T00:00:00",
          "2017-02-28T00:00:00",
          "2017-03-31T00:00:00",
          "2017-04-30T00:00:00",
          "2017-05-31T00:00:00",
          "2017-06-30T00:00:00",
          "2017-07-31T00:00:00",
          "2017-08-31T00:00:00",
          "2017-09-30T00:00:00",
          "2017-10-31T00:00:00",
          "2017-11-30T00:00:00",
          "2017-12-31T00:00:00",
          "2018-01-31T00:00:00",
          "2018-02-28T00:00:00",
          "2018-03-31T00:00:00",
          "2018-04-30T00:00:00",
          "2018-05-31T00:00:00",
          "2018-06-30T00:00:00",
          "2018-07-31T00:00:00",
          "2018-08-31T00:00:00",
          "2018-09-30T00:00:00",
          "2018-10-31T00:00:00"
         ],
         "xaxis": "x",
         "y": [
          14.565,
          19.901116883116885,
          null,
          8.72,
          17.72706744868035,
          20.084153400868306,
          19.263105279600126,
          19.941497905027934,
          19.243055118110238,
          19.40988749345892,
          19.323636177614077,
          19.169596094946403,
          19.914003115264798,
          19.842266334342174,
          19.45934476693052,
          18.937342636129227,
          19.18416250145298,
          18.63617053103964,
          20.890436452513967,
          20.476860493230173,
          19.500128781436032,
          22.404057598702,
          23.183545405111474,
          20.58738210075027,
          21.46,
          null
         ],
         "yaxis": "y"
        }
       ],
       "layout": {
        "autosize": true,
        "legend": {
         "title": {
          "text": "Variable"
         },
         "tracegroupgap": 0
        },
        "template": {
         "data": {
          "bar": [
           {
            "error_x": {
             "color": "#2a3f5f"
            },
            "error_y": {
             "color": "#2a3f5f"
            },
            "marker": {
             "line": {
              "color": "#E5ECF6",
              "width": 0.5
             },
             "pattern": {
              "fillmode": "overlay",
              "size": 10,
              "solidity": 0.2
             }
            },
            "type": "bar"
           }
          ],
          "barpolar": [
           {
            "marker": {
             "line": {
              "color": "#E5ECF6",
              "width": 0.5
             },
             "pattern": {
              "fillmode": "overlay",
              "size": 10,
              "solidity": 0.2
             }
            },
            "type": "barpolar"
           }
          ],
          "carpet": [
           {
            "aaxis": {
             "endlinecolor": "#2a3f5f",
             "gridcolor": "white",
             "linecolor": "white",
             "minorgridcolor": "white",
             "startlinecolor": "#2a3f5f"
            },
            "baxis": {
             "endlinecolor": "#2a3f5f",
             "gridcolor": "white",
             "linecolor": "white",
             "minorgridcolor": "white",
             "startlinecolor": "#2a3f5f"
            },
            "type": "carpet"
           }
          ],
          "choropleth": [
           {
            "colorbar": {
             "outlinewidth": 0,
             "ticks": ""
            },
            "type": "choropleth"
           }
          ],
          "contour": [
           {
            "colorbar": {
             "outlinewidth": 0,
             "ticks": ""
            },
            "colorscale": [
             [
              0,
              "#0d0887"
             ],
             [
              0.1111111111111111,
              "#46039f"
             ],
             [
              0.2222222222222222,
              "#7201a8"
             ],
             [
              0.3333333333333333,
              "#9c179e"
             ],
             [
              0.4444444444444444,
              "#bd3786"
             ],
             [
              0.5555555555555556,
              "#d8576b"
             ],
             [
              0.6666666666666666,
              "#ed7953"
             ],
             [
              0.7777777777777778,
              "#fb9f3a"
             ],
             [
              0.8888888888888888,
              "#fdca26"
             ],
             [
              1,
              "#f0f921"
             ]
            ],
            "type": "contour"
           }
          ],
          "contourcarpet": [
           {
            "colorbar": {
             "outlinewidth": 0,
             "ticks": ""
            },
            "type": "contourcarpet"
           }
          ],
          "heatmap": [
           {
            "colorbar": {
             "outlinewidth": 0,
             "ticks": ""
            },
            "colorscale": [
             [
              0,
              "#0d0887"
             ],
             [
              0.1111111111111111,
              "#46039f"
             ],
             [
              0.2222222222222222,
              "#7201a8"
             ],
             [
              0.3333333333333333,
              "#9c179e"
             ],
             [
              0.4444444444444444,
              "#bd3786"
             ],
             [
              0.5555555555555556,
              "#d8576b"
             ],
             [
              0.6666666666666666,
              "#ed7953"
             ],
             [
              0.7777777777777778,
              "#fb9f3a"
             ],
             [
              0.8888888888888888,
              "#fdca26"
             ],
             [
              1,
              "#f0f921"
             ]
            ],
            "type": "heatmap"
           }
          ],
          "heatmapgl": [
           {
            "colorbar": {
             "outlinewidth": 0,
             "ticks": ""
            },
            "colorscale": [
             [
              0,
              "#0d0887"
             ],
             [
              0.1111111111111111,
              "#46039f"
             ],
             [
              0.2222222222222222,
              "#7201a8"
             ],
             [
              0.3333333333333333,
              "#9c179e"
             ],
             [
              0.4444444444444444,
              "#bd3786"
             ],
             [
              0.5555555555555556,
              "#d8576b"
             ],
             [
              0.6666666666666666,
              "#ed7953"
             ],
             [
              0.7777777777777778,
              "#fb9f3a"
             ],
             [
              0.8888888888888888,
              "#fdca26"
             ],
             [
              1,
              "#f0f921"
             ]
            ],
            "type": "heatmapgl"
           }
          ],
          "histogram": [
           {
            "marker": {
             "pattern": {
              "fillmode": "overlay",
              "size": 10,
              "solidity": 0.2
             }
            },
            "type": "histogram"
           }
          ],
          "histogram2d": [
           {
            "colorbar": {
             "outlinewidth": 0,
             "ticks": ""
            },
            "colorscale": [
             [
              0,
              "#0d0887"
             ],
             [
              0.1111111111111111,
              "#46039f"
             ],
             [
              0.2222222222222222,
              "#7201a8"
             ],
             [
              0.3333333333333333,
              "#9c179e"
             ],
             [
              0.4444444444444444,
              "#bd3786"
             ],
             [
              0.5555555555555556,
              "#d8576b"
             ],
             [
              0.6666666666666666,
              "#ed7953"
             ],
             [
              0.7777777777777778,
              "#fb9f3a"
             ],
             [
              0.8888888888888888,
              "#fdca26"
             ],
             [
              1,
              "#f0f921"
             ]
            ],
            "type": "histogram2d"
           }
          ],
          "histogram2dcontour": [
           {
            "colorbar": {
             "outlinewidth": 0,
             "ticks": ""
            },
            "colorscale": [
             [
              0,
              "#0d0887"
             ],
             [
              0.1111111111111111,
              "#46039f"
             ],
             [
              0.2222222222222222,
              "#7201a8"
             ],
             [
              0.3333333333333333,
              "#9c179e"
             ],
             [
              0.4444444444444444,
              "#bd3786"
             ],
             [
              0.5555555555555556,
              "#d8576b"
             ],
             [
              0.6666666666666666,
              "#ed7953"
             ],
             [
              0.7777777777777778,
              "#fb9f3a"
             ],
             [
              0.8888888888888888,
              "#fdca26"
             ],
             [
              1,
              "#f0f921"
             ]
            ],
            "type": "histogram2dcontour"
           }
          ],
          "mesh3d": [
           {
            "colorbar": {
             "outlinewidth": 0,
             "ticks": ""
            },
            "type": "mesh3d"
           }
          ],
          "parcoords": [
           {
            "line": {
             "colorbar": {
              "outlinewidth": 0,
              "ticks": ""
             }
            },
            "type": "parcoords"
           }
          ],
          "pie": [
           {
            "automargin": true,
            "type": "pie"
           }
          ],
          "scatter": [
           {
            "fillpattern": {
             "fillmode": "overlay",
             "size": 10,
             "solidity": 0.2
            },
            "type": "scatter"
           }
          ],
          "scatter3d": [
           {
            "line": {
             "colorbar": {
              "outlinewidth": 0,
              "ticks": ""
             }
            },
            "marker": {
             "colorbar": {
              "outlinewidth": 0,
              "ticks": ""
             }
            },
            "type": "scatter3d"
           }
          ],
          "scattercarpet": [
           {
            "marker": {
             "colorbar": {
              "outlinewidth": 0,
              "ticks": ""
             }
            },
            "type": "scattercarpet"
           }
          ],
          "scattergeo": [
           {
            "marker": {
             "colorbar": {
              "outlinewidth": 0,
              "ticks": ""
             }
            },
            "type": "scattergeo"
           }
          ],
          "scattergl": [
           {
            "marker": {
             "colorbar": {
              "outlinewidth": 0,
              "ticks": ""
             }
            },
            "type": "scattergl"
           }
          ],
          "scattermapbox": [
           {
            "marker": {
             "colorbar": {
              "outlinewidth": 0,
              "ticks": ""
             }
            },
            "type": "scattermapbox"
           }
          ],
          "scatterpolar": [
           {
            "marker": {
             "colorbar": {
              "outlinewidth": 0,
              "ticks": ""
             }
            },
            "type": "scatterpolar"
           }
          ],
          "scatterpolargl": [
           {
            "marker": {
             "colorbar": {
              "outlinewidth": 0,
              "ticks": ""
             }
            },
            "type": "scatterpolargl"
           }
          ],
          "scatterternary": [
           {
            "marker": {
             "colorbar": {
              "outlinewidth": 0,
              "ticks": ""
             }
            },
            "type": "scatterternary"
           }
          ],
          "surface": [
           {
            "colorbar": {
             "outlinewidth": 0,
             "ticks": ""
            },
            "colorscale": [
             [
              0,
              "#0d0887"
             ],
             [
              0.1111111111111111,
              "#46039f"
             ],
             [
              0.2222222222222222,
              "#7201a8"
             ],
             [
              0.3333333333333333,
              "#9c179e"
             ],
             [
              0.4444444444444444,
              "#bd3786"
             ],
             [
              0.5555555555555556,
              "#d8576b"
             ],
             [
              0.6666666666666666,
              "#ed7953"
             ],
             [
              0.7777777777777778,
              "#fb9f3a"
             ],
             [
              0.8888888888888888,
              "#fdca26"
             ],
             [
              1,
              "#f0f921"
             ]
            ],
            "type": "surface"
           }
          ],
          "table": [
           {
            "cells": {
             "fill": {
              "color": "#EBF0F8"
             },
             "line": {
              "color": "white"
             }
            },
            "header": {
             "fill": {
              "color": "#C8D4E3"
             },
             "line": {
              "color": "white"
             }
            },
            "type": "table"
           }
          ]
         },
         "layout": {
          "annotationdefaults": {
           "arrowcolor": "#2a3f5f",
           "arrowhead": 0,
           "arrowwidth": 1
          },
          "autotypenumbers": "strict",
          "coloraxis": {
           "colorbar": {
            "outlinewidth": 0,
            "ticks": ""
           }
          },
          "colorscale": {
           "diverging": [
            [
             0,
             "#8e0152"
            ],
            [
             0.1,
             "#c51b7d"
            ],
            [
             0.2,
             "#de77ae"
            ],
            [
             0.3,
             "#f1b6da"
            ],
            [
             0.4,
             "#fde0ef"
            ],
            [
             0.5,
             "#f7f7f7"
            ],
            [
             0.6,
             "#e6f5d0"
            ],
            [
             0.7,
             "#b8e186"
            ],
            [
             0.8,
             "#7fbc41"
            ],
            [
             0.9,
             "#4d9221"
            ],
            [
             1,
             "#276419"
            ]
           ],
           "sequential": [
            [
             0,
             "#0d0887"
            ],
            [
             0.1111111111111111,
             "#46039f"
            ],
            [
             0.2222222222222222,
             "#7201a8"
            ],
            [
             0.3333333333333333,
             "#9c179e"
            ],
            [
             0.4444444444444444,
             "#bd3786"
            ],
            [
             0.5555555555555556,
             "#d8576b"
            ],
            [
             0.6666666666666666,
             "#ed7953"
            ],
            [
             0.7777777777777778,
             "#fb9f3a"
            ],
            [
             0.8888888888888888,
             "#fdca26"
            ],
            [
             1,
             "#f0f921"
            ]
           ],
           "sequentialminus": [
            [
             0,
             "#0d0887"
            ],
            [
             0.1111111111111111,
             "#46039f"
            ],
            [
             0.2222222222222222,
             "#7201a8"
            ],
            [
             0.3333333333333333,
             "#9c179e"
            ],
            [
             0.4444444444444444,
             "#bd3786"
            ],
            [
             0.5555555555555556,
             "#d8576b"
            ],
            [
             0.6666666666666666,
             "#ed7953"
            ],
            [
             0.7777777777777778,
             "#fb9f3a"
            ],
            [
             0.8888888888888888,
             "#fdca26"
            ],
            [
             1,
             "#f0f921"
            ]
           ]
          },
          "colorway": [
           "#636efa",
           "#EF553B",
           "#00cc96",
           "#ab63fa",
           "#FFA15A",
           "#19d3f3",
           "#FF6692",
           "#B6E880",
           "#FF97FF",
           "#FECB52"
          ],
          "font": {
           "color": "#2a3f5f"
          },
          "geo": {
           "bgcolor": "white",
           "lakecolor": "white",
           "landcolor": "#E5ECF6",
           "showlakes": true,
           "showland": true,
           "subunitcolor": "white"
          },
          "hoverlabel": {
           "align": "left"
          },
          "hovermode": "closest",
          "mapbox": {
           "style": "light"
          },
          "paper_bgcolor": "white",
          "plot_bgcolor": "#E5ECF6",
          "polar": {
           "angularaxis": {
            "gridcolor": "white",
            "linecolor": "white",
            "ticks": ""
           },
           "bgcolor": "#E5ECF6",
           "radialaxis": {
            "gridcolor": "white",
            "linecolor": "white",
            "ticks": ""
           }
          },
          "scene": {
           "xaxis": {
            "backgroundcolor": "#E5ECF6",
            "gridcolor": "white",
            "gridwidth": 2,
            "linecolor": "white",
            "showbackground": true,
            "ticks": "",
            "zerolinecolor": "white"
           },
           "yaxis": {
            "backgroundcolor": "#E5ECF6",
            "gridcolor": "white",
            "gridwidth": 2,
            "linecolor": "white",
            "showbackground": true,
            "ticks": "",
            "zerolinecolor": "white"
           },
           "zaxis": {
            "backgroundcolor": "#E5ECF6",
            "gridcolor": "white",
            "gridwidth": 2,
            "linecolor": "white",
            "showbackground": true,
            "ticks": "",
            "zerolinecolor": "white"
           }
          },
          "shapedefaults": {
           "line": {
            "color": "#2a3f5f"
           }
          },
          "ternary": {
           "aaxis": {
            "gridcolor": "white",
            "linecolor": "white",
            "ticks": ""
           },
           "baxis": {
            "gridcolor": "white",
            "linecolor": "white",
            "ticks": ""
           },
           "bgcolor": "#E5ECF6",
           "caxis": {
            "gridcolor": "white",
            "linecolor": "white",
            "ticks": ""
           }
          },
          "title": {
           "x": 0.05
          },
          "xaxis": {
           "automargin": true,
           "gridcolor": "white",
           "linecolor": "white",
           "ticks": "",
           "title": {
            "standoff": 15
           },
           "zerolinecolor": "white",
           "zerolinewidth": 2
          },
          "yaxis": {
           "automargin": true,
           "gridcolor": "white",
           "linecolor": "white",
           "ticks": "",
           "title": {
            "standoff": 15
           },
           "zerolinecolor": "white",
           "zerolinewidth": 2
          }
         }
        },
        "title": {
         "text": "Mean Price and Freight Value Over Seasons"
        },
        "xaxis": {
         "anchor": "y",
         "autorange": true,
         "domain": [
          0,
          1
         ],
         "range": [
          "2016-09-30",
          "2018-10-31"
         ],
         "title": {
          "text": "Date"
         },
         "type": "date"
        },
        "yaxis": {
         "anchor": "x",
         "autorange": true,
         "domain": [
          0,
          1
         ],
         "range": [
          1.14888888888889,
          152.57111111111112
         ],
         "title": {
          "text": "Mean Value"
         },
         "type": "linear"
        }
       }
      },
      "image/png": "[encoded data removed]",
      "text/html": [
       "<div>                            <div id=\"66b38d87-7852-4cb8-8cbf-0a4b4b39c1a1\" class=\"plotly-graph-div\" style=\"height:525px; width:100%;\"></div>            <script type=\"text/javascript\">                require([\"plotly\"], function(Plotly) {                    window.PLOTLYENV=window.PLOTLYENV || {};                                    if (document.getElementById(\"66b38d87-7852-4cb8-8cbf-0a4b4b39c1a1\")) {                    Plotly.newPlot(                        \"66b38d87-7852-4cb8-8cbf-0a4b4b39c1a1\",                        [{\"hovertemplate\":\"Variable=price\\u003cbr\\u003eDate=%{x}\\u003cbr\\u003eMean Value=%{y}\\u003cextra\\u003e\\u003c\\u002fextra\\u003e\",\"legendgroup\":\"price\",\"line\":{\"color\":\"#636efa\",\"dash\":\"solid\"},\"marker\":{\"symbol\":\"circle\"},\"mode\":\"lines\",\"name\":\"price\",\"orientation\":\"v\",\"showlegend\":true,\"x\":[\"2016-09-30T00:00:00\",\"2016-10-31T00:00:00\",\"2016-11-30T00:00:00\",\"2016-12-31T00:00:00\",\"2017-01-31T00:00:00\",\"2017-02-28T00:00:00\",\"2017-03-31T00:00:00\",\"2017-04-30T00:00:00\",\"2017-05-31T00:00:00\",\"2017-06-30T00:00:00\",\"2017-07-31T00:00:00\",\"2017-08-31T00:00:00\",\"2017-09-30T00:00:00\",\"2017-10-31T00:00:00\",\"2017-11-30T00:00:00\",\"2017-12-31T00:00:00\",\"2018-01-31T00:00:00\",\"2018-02-28T00:00:00\",\"2018-03-31T00:00:00\",\"2018-04-30T00:00:00\",\"2018-05-31T00:00:00\",\"2018-06-30T00:00:00\",\"2018-07-31T00:00:00\",\"2018-08-31T00:00:00\",\"2018-09-30T00:00:00\",\"2018-10-31T00:00:00\"],\"xaxis\":\"x\",\"y\":[44.56,132.64654545454545,null,10.9,126.97489736070382,126.39356488181379,124.37283348953451,137.07938547486032,123.56059392575928,119.5362297226583,109.8643257622263,116.00822741194487,129.48741822429906,124.16900836745593,115.99297493403695,117.33262854542697,115.50639195629431,110.88410496135627,119.83119995344506,124.724083655706,125.46463613169725,123.04665089237426,126.07414083741163,118.53316184351554,145.0,null],\"yaxis\":\"y\",\"type\":\"scatter\"},{\"hovertemplate\":\"Variable=freight_value\\u003cbr\\u003eDate=%{x}\\u003cbr\\u003eMean Value=%{y}\\u003cextra\\u003e\\u003c\\u002fextra\\u003e\",\"legendgroup\":\"freight_value\",\"line\":{\"color\":\"#EF553B\",\"dash\":\"solid\"},\"marker\":{\"symbol\":\"circle\"},\"mode\":\"lines\",\"name\":\"freight_value\",\"orientation\":\"v\",\"showlegend\":true,\"x\":[\"2016-09-30T00:00:00\",\"2016-10-31T00:00:00\",\"2016-11-30T00:00:00\",\"2016-12-31T00:00:00\",\"2017-01-31T00:00:00\",\"2017-02-28T00:00:00\",\"2017-03-31T00:00:00\",\"2017-04-30T00:00:00\",\"2017-05-31T00:00:00\",\"2017-06-30T00:00:00\",\"2017-07-31T00:00:00\",\"2017-08-31T00:00:00\",\"2017-09-30T00:00:00\",\"2017-10-31T00:00:00\",\"2017-11-30T00:00:00\",\"2017-12-31T00:00:00\",\"2018-01-31T00:00:00\",\"2018-02-28T00:00:00\",\"2018-03-31T00:00:00\",\"2018-04-30T00:00:00\",\"2018-05-31T00:00:00\",\"2018-06-30T00:00:00\",\"2018-07-31T00:00:00\",\"2018-08-31T00:00:00\",\"2018-09-30T00:00:00\",\"2018-10-31T00:00:00\"],\"xaxis\":\"x\",\"y\":[14.565,19.901116883116885,null,8.72,17.72706744868035,20.084153400868306,19.263105279600126,19.941497905027934,19.243055118110238,19.40988749345892,19.323636177614077,19.169596094946403,19.914003115264798,19.842266334342174,19.45934476693052,18.937342636129227,19.18416250145298,18.63617053103964,20.890436452513967,20.476860493230173,19.500128781436032,22.404057598702,23.183545405111474,20.58738210075027,21.46,null],\"yaxis\":\"y\",\"type\":\"scatter\"}],                        {\"template\":{\"data\":{\"histogram2dcontour\":[{\"type\":\"histogram2dcontour\",\"colorbar\":{\"outlinewidth\":0,\"ticks\":\"\"},\"colorscale\":[[0.0,\"#0d0887\"],[0.1111111111111111,\"#46039f\"],[0.2222222222222222,\"#7201a8\"],[0.3333333333333333,\"#9c179e\"],[0.4444444444444444,\"#bd3786\"],[0.5555555555555556,\"#d8576b\"],[0.6666666666666666,\"#ed7953\"],[0.7777777777777778,\"#fb9f3a\"],[0.8888888888888888,\"#fdca26\"],[1.0,\"#f0f921\"]]}],\"choropleth\":[{\"type\":\"choropleth\",\"colorbar\":{\"outlinewidth\":0,\"ticks\":\"\"}}],\"histogram2d\":[{\"type\":\"histogram2d\",\"colorbar\":{\"outlinewidth\":0,\"ticks\":\"\"},\"colorscale\":[[0.0,\"#0d0887\"],[0.1111111111111111,\"#46039f\"],[0.2222222222222222,\"#7201a8\"],[0.3333333333333333,\"#9c179e\"],[0.4444444444444444,\"#bd3786\"],[0.5555555555555556,\"#d8576b\"],[0.6666666666666666,\"#ed7953\"],[0.7777777777777778,\"#fb9f3a\"],[0.8888888888888888,\"#fdca26\"],[1.0,\"#f0f921\"]]}],\"heatmap\":[{\"type\":\"heatmap\",\"colorbar\":{\"outlinewidth\":0,\"ticks\":\"\"},\"colorscale\":[[0.0,\"#0d0887\"],[0.1111111111111111,\"#46039f\"],[0.2222222222222222,\"#7201a8\"],[0.3333333333333333,\"#9c179e\"],[0.4444444444444444,\"#bd3786\"],[0.5555555555555556,\"#d8576b\"],[0.6666666666666666,\"#ed7953\"],[0.7777777777777778,\"#fb9f3a\"],[0.8888888888888888,\"#fdca26\"],[1.0,\"#f0f921\"]]}],\"heatmapgl\":[{\"type\":\"heatmapgl\",\"colorbar\":{\"outlinewidth\":0,\"ticks\":\"\"},\"colorscale\":[[0.0,\"#0d0887\"],[0.1111111111111111,\"#46039f\"],[0.2222222222222222,\"#7201a8\"],[0.3333333333333333,\"#9c179e\"],[0.4444444444444444,\"#bd3786\"],[0.5555555555555556,\"#d8576b\"],[0.6666666666666666,\"#ed7953\"],[0.7777777777777778,\"#fb9f3a\"],[0.8888888888888888,\"#fdca26\"],[1.0,\"#f0f921\"]]}],\"contourcarpet\":[{\"type\":\"contourcarpet\",\"colorbar\":{\"outlinewidth\":0,\"ticks\":\"\"}}],\"contour\":[{\"type\":\"contour\",\"colorbar\":{\"outlinewidth\":0,\"ticks\":\"\"},\"colorscale\":[[0.0,\"#0d0887\"],[0.1111111111111111,\"#46039f\"],[0.2222222222222222,\"#7201a8\"],[0.3333333333333333,\"#9c179e\"],[0.4444444444444444,\"#bd3786\"],[0.5555555555555556,\"#d8576b\"],[0.6666666666666666,\"#ed7953\"],[0.7777777777777778,\"#fb9f3a\"],[0.8888888888888888,\"#fdca26\"],[1.0,\"#f0f921\"]]}],\"surface\":[{\"type\":\"surface\",\"colorbar\":{\"outlinewidth\":0,\"ticks\":\"\"},\"colorscale\":[[0.0,\"#0d0887\"],[0.1111111111111111,\"#46039f\"],[0.2222222222222222,\"#7201a8\"],[0.3333333333333333,\"#9c179e\"],[0.4444444444444444,\"#bd3786\"],[0.5555555555555556,\"#d8576b\"],[0.6666666666666666,\"#ed7953\"],[0.7777777777777778,\"#fb9f3a\"],[0.8888888888888888,\"#fdca26\"],[1.0,\"#f0f921\"]]}],\"mesh3d\":[{\"type\":\"mesh3d\",\"colorbar\":{\"outlinewidth\":0,\"ticks\":\"\"}}],\"scatter\":[{\"fillpattern\":{\"fillmode\":\"overlay\",\"size\":10,\"solidity\":0.2},\"type\":\"scatter\"}],\"parcoords\":[{\"type\":\"parcoords\",\"line\":{\"colorbar\":{\"outlinewidth\":0,\"ticks\":\"\"}}}],\"scatterpolargl\":[{\"type\":\"scatterpolargl\",\"marker\":{\"colorbar\":{\"outlinewidth\":0,\"ticks\":\"\"}}}],\"bar\":[{\"error_x\":{\"color\":\"#2a3f5f\"},\"error_y\":{\"color\":\"#2a3f5f\"},\"marker\":{\"line\":{\"color\":\"#E5ECF6\",\"width\":0.5},\"pattern\":{\"fillmode\":\"overlay\",\"size\":10,\"solidity\":0.2}},\"type\":\"bar\"}],\"scattergeo\":[{\"type\":\"scattergeo\",\"marker\":{\"colorbar\":{\"outlinewidth\":0,\"ticks\":\"\"}}}],\"scatterpolar\":[{\"type\":\"scatterpolar\",\"marker\":{\"colorbar\":{\"outlinewidth\":0,\"ticks\":\"\"}}}],\"histogram\":[{\"marker\":{\"pattern\":{\"fillmode\":\"overlay\",\"size\":10,\"solidity\":0.2}},\"type\":\"histogram\"}],\"scattergl\":[{\"type\":\"scattergl\",\"marker\":{\"colorbar\":{\"outlinewidth\":0,\"ticks\":\"\"}}}],\"scatter3d\":[{\"type\":\"scatter3d\",\"line\":{\"colorbar\":{\"outlinewidth\":0,\"ticks\":\"\"}},\"marker\":{\"colorbar\":{\"outlinewidth\":0,\"ticks\":\"\"}}}],\"scattermapbox\":[{\"type\":\"scattermapbox\",\"marker\":{\"colorbar\":{\"outlinewidth\":0,\"ticks\":\"\"}}}],\"scatterternary\":[{\"type\":\"scatterternary\",\"marker\":{\"colorbar\":{\"outlinewidth\":0,\"ticks\":\"\"}}}],\"scattercarpet\":[{\"type\":\"scattercarpet\",\"marker\":{\"colorbar\":{\"outlinewidth\":0,\"ticks\":\"\"}}}],\"carpet\":[{\"aaxis\":{\"endlinecolor\":\"#2a3f5f\",\"gridcolor\":\"white\",\"linecolor\":\"white\",\"minorgridcolor\":\"white\",\"startlinecolor\":\"#2a3f5f\"},\"baxis\":{\"endlinecolor\":\"#2a3f5f\",\"gridcolor\":\"white\",\"linecolor\":\"white\",\"minorgridcolor\":\"white\",\"startlinecolor\":\"#2a3f5f\"},\"type\":\"carpet\"}],\"table\":[{\"cells\":{\"fill\":{\"color\":\"#EBF0F8\"},\"line\":{\"color\":\"white\"}},\"header\":{\"fill\":{\"color\":\"#C8D4E3\"},\"line\":{\"color\":\"white\"}},\"type\":\"table\"}],\"barpolar\":[{\"marker\":{\"line\":{\"color\":\"#E5ECF6\",\"width\":0.5},\"pattern\":{\"fillmode\":\"overlay\",\"size\":10,\"solidity\":0.2}},\"type\":\"barpolar\"}],\"pie\":[{\"automargin\":true,\"type\":\"pie\"}]},\"layout\":{\"autotypenumbers\":\"strict\",\"colorway\":[\"#636efa\",\"#EF553B\",\"#00cc96\",\"#ab63fa\",\"#FFA15A\",\"#19d3f3\",\"#FF6692\",\"#B6E880\",\"#FF97FF\",\"#FECB52\"],\"font\":{\"color\":\"#2a3f5f\"},\"hovermode\":\"closest\",\"hoverlabel\":{\"align\":\"left\"},\"paper_bgcolor\":\"white\",\"plot_bgcolor\":\"#E5ECF6\",\"polar\":{\"bgcolor\":\"#E5ECF6\",\"angularaxis\":{\"gridcolor\":\"white\",\"linecolor\":\"white\",\"ticks\":\"\"},\"radialaxis\":{\"gridcolor\":\"white\",\"linecolor\":\"white\",\"ticks\":\"\"}},\"ternary\":{\"bgcolor\":\"#E5ECF6\",\"aaxis\":{\"gridcolor\":\"white\",\"linecolor\":\"white\",\"ticks\":\"\"},\"baxis\":{\"gridcolor\":\"white\",\"linecolor\":\"white\",\"ticks\":\"\"},\"caxis\":{\"gridcolor\":\"white\",\"linecolor\":\"white\",\"ticks\":\"\"}},\"coloraxis\":{\"colorbar\":{\"outlinewidth\":0,\"ticks\":\"\"}},\"colorscale\":{\"sequential\":[[0.0,\"#0d0887\"],[0.1111111111111111,\"#46039f\"],[0.2222222222222222,\"#7201a8\"],[0.3333333333333333,\"#9c179e\"],[0.4444444444444444,\"#bd3786\"],[0.5555555555555556,\"#d8576b\"],[0.6666666666666666,\"#ed7953\"],[0.7777777777777778,\"#fb9f3a\"],[0.8888888888888888,\"#fdca26\"],[1.0,\"#f0f921\"]],\"sequentialminus\":[[0.0,\"#0d0887\"],[0.1111111111111111,\"#46039f\"],[0.2222222222222222,\"#7201a8\"],[0.3333333333333333,\"#9c179e\"],[0.4444444444444444,\"#bd3786\"],[0.5555555555555556,\"#d8576b\"],[0.6666666666666666,\"#ed7953\"],[0.7777777777777778,\"#fb9f3a\"],[0.8888888888888888,\"#fdca26\"],[1.0,\"#f0f921\"]],\"diverging\":[[0,\"#8e0152\"],[0.1,\"#c51b7d\"],[0.2,\"#de77ae\"],[0.3,\"#f1b6da\"],[0.4,\"#fde0ef\"],[0.5,\"#f7f7f7\"],[0.6,\"#e6f5d0\"],[0.7,\"#b8e186\"],[0.8,\"#7fbc41\"],[0.9,\"#4d9221\"],[1,\"#276419\"]]},\"xaxis\":{\"gridcolor\":\"white\",\"linecolor\":\"white\",\"ticks\":\"\",\"title\":{\"standoff\":15},\"zerolinecolor\":\"white\",\"automargin\":true,\"zerolinewidth\":2},\"yaxis\":{\"gridcolor\":\"white\",\"linecolor\":\"white\",\"ticks\":\"\",\"title\":{\"standoff\":15},\"zerolinecolor\":\"white\",\"automargin\":true,\"zerolinewidth\":2},\"scene\":{\"xaxis\":{\"backgroundcolor\":\"#E5ECF6\",\"gridcolor\":\"white\",\"linecolor\":\"white\",\"showbackground\":true,\"ticks\":\"\",\"zerolinecolor\":\"white\",\"gridwidth\":2},\"yaxis\":{\"backgroundcolor\":\"#E5ECF6\",\"gridcolor\":\"white\",\"linecolor\":\"white\",\"showbackground\":true,\"ticks\":\"\",\"zerolinecolor\":\"white\",\"gridwidth\":2},\"zaxis\":{\"backgroundcolor\":\"#E5ECF6\",\"gridcolor\":\"white\",\"linecolor\":\"white\",\"showbackground\":true,\"ticks\":\"\",\"zerolinecolor\":\"white\",\"gridwidth\":2}},\"shapedefaults\":{\"line\":{\"color\":\"#2a3f5f\"}},\"annotationdefaults\":{\"arrowcolor\":\"#2a3f5f\",\"arrowhead\":0,\"arrowwidth\":1},\"geo\":{\"bgcolor\":\"white\",\"landcolor\":\"#E5ECF6\",\"subunitcolor\":\"white\",\"showland\":true,\"showlakes\":true,\"lakecolor\":\"white\"},\"title\":{\"x\":0.05},\"mapbox\":{\"style\":\"light\"}}},\"xaxis\":{\"anchor\":\"y\",\"domain\":[0.0,1.0],\"title\":{\"text\":\"Date\"}},\"yaxis\":{\"anchor\":\"x\",\"domain\":[0.0,1.0],\"title\":{\"text\":\"Mean Value\"}},\"legend\":{\"title\":{\"text\":\"Variable\"},\"tracegroupgap\":0},\"title\":{\"text\":\"Mean Price and Freight Value Over Seasons\"}},                        {\"responsive\": true}                    ).then(function(){\n",
       "                            \n",
       "var gd = document.getElementById('66b38d87-7852-4cb8-8cbf-0a4b4b39c1a1');\n",
       "var x = new MutationObserver(function (mutations, observer) {{\n",
       "        var display = window.getComputedStyle(gd).display;\n",
       "        if (!display || display === 'none') {{\n",
       "            console.log([gd, 'removed!']);\n",
       "            Plotly.purge(gd);\n",
       "            observer.disconnect();\n",
       "        }}\n",
       "}});\n",
       "\n",
       "// Listen for the removal of the full notebook cells\n",
       "var notebookContainer = gd.closest('#notebook-container');\n",
       "if (notebookContainer) {{\n",
       "    x.observe(notebookContainer, {childList: true});\n",
       "}}\n",
       "\n",
       "// Listen for the clearing of the current output cell\n",
       "var outputEl = gd.closest('.output');\n",
       "if (outputEl) {{\n",
       "    x.observe(outputEl, {childList: true});\n",
       "}}\n",
       "\n",
       "                        })                };                });            </script>        </div>"
      ]
     },
     "metadata": {},
     "output_type": "display_data"
    }
   ],
   "source": [
    "# Convert 'order_purchase_timestamp' to datetime type\n",
    "ecommerce_df['order_purchase_timestamp'] = pd.to_datetime(ecommerce_df['order_purchase_timestamp'])\n",
    "\n",
    "# Extract relevant columns\n",
    "relevant_columns = ['price', 'freight_value', 'order_purchase_timestamp']\n",
    "data = ecommerce_df[relevant_columns]\n",
    "\n",
    "# Group data by datetime_column and aggregate price and freight_value\n",
    "grouped_data = data.groupby(pd.Grouper(key='order_purchase_timestamp', freq='M')).agg({'price': 'mean', 'freight_value': 'mean'}).reset_index()\n",
    "\n",
    "# Melt the DataFrame to long format for Plotly plotting\n",
    "melted_data = pd.melt(grouped_data, id_vars='order_purchase_timestamp', value_vars=['price', 'freight_value'], var_name='Variable', value_name='Mean Value')\n",
    "\n",
    "# Create an interactive line plot with Plotly\n",
    "fig = px.line(melted_data, x='order_purchase_timestamp', y='Mean Value', color='Variable',\n",
    "              title='Mean Price and Freight Value Over Seasons', labels={'order_purchase_timestamp': 'Date', 'Mean Value': 'Mean Value', 'Variable': 'Variable'})\n",
    "\n",
    "# Show the plot\n",
    "fig.show()"
   ]
  },
  {
   "cell_type": "code",
   "execution_count": 16,
   "id": "a0b05a09-9886-483d-b3cc-8518e2db1a33",
   "metadata": {
    "tags": []
   },
   "outputs": [
    {
     "data": {
      "text/html": [
       "\n",
       "<p><b>Shutting down your kernel for this notebook to release resources.</b></p>\n",
       "<button class=\"sm-command-button\" data-commandlinker-command=\"kernelmenu:shutdown\" style=\"display:none;\">Shutdown Kernel</button>\n",
       "        \n",
       "<script>\n",
       "try {\n",
       "    els = document.getElementsByClassName(\"sm-command-button\");\n",
       "    els[0].click();\n",
       "}\n",
       "catch(err) {\n",
       "    // NoOp\n",
       "}    \n",
       "</script>\n"
      ],
      "text/plain": [
       "<IPython.core.display.HTML object>"
      ]
     },
     "metadata": {},
     "output_type": "display_data"
    }
   ],
   "source": [
    "%%html\n",
    "\n",
    "<p><b>Shutting down your kernel for this notebook to release resources.</b></p>\n",
    "<button class=\"sm-command-button\" data-commandlinker-command=\"kernelmenu:shutdown\" style=\"display:none;\">Shutdown Kernel</button>\n",
    "        \n",
    "<script>\n",
    "try {\n",
    "    els = document.getElementsByClassName(\"sm-command-button\");\n",
    "    els[0].click();\n",
    "}\n",
    "catch(err) {\n",
    "    // NoOp\n",
    "}    \n",
    "</script>"
   ]
  },
  {
   "cell_type": "code",
   "execution_count": null,
   "id": "649971d2-dcdf-4813-94c0-c80d02f8ce96",
   "metadata": {},
   "outputs": [],
   "source": []
  }
 ],
 "metadata": {
  "availableInstances": [
   {
    "_defaultOrder": 0,
    "_isFastLaunch": true,
    "category": "General purpose",
    "gpuNum": 0,
    "hideHardwareSpecs": false,
    "memoryGiB": 4,
    "name": "ml.t3.medium",
    "vcpuNum": 2
   },
   {
    "_defaultOrder": 1,
    "_isFastLaunch": false,
    "category": "General purpose",
    "gpuNum": 0,
    "hideHardwareSpecs": false,
    "memoryGiB": 8,
    "name": "ml.t3.large",
    "vcpuNum": 2
   },
   {
    "_defaultOrder": 2,
    "_isFastLaunch": false,
    "category": "General purpose",
    "gpuNum": 0,
    "hideHardwareSpecs": false,
    "memoryGiB": 16,
    "name": "ml.t3.xlarge",
    "vcpuNum": 4
   },
   {
    "_defaultOrder": 3,
    "_isFastLaunch": false,
    "category": "General purpose",
    "gpuNum": 0,
    "hideHardwareSpecs": false,
    "memoryGiB": 32,
    "name": "ml.t3.2xlarge",
    "vcpuNum": 8
   },
   {
    "_defaultOrder": 4,
    "_isFastLaunch": true,
    "category": "General purpose",
    "gpuNum": 0,
    "hideHardwareSpecs": false,
    "memoryGiB": 8,
    "name": "ml.m5.large",
    "vcpuNum": 2
   },
   {
    "_defaultOrder": 5,
    "_isFastLaunch": false,
    "category": "General purpose",
    "gpuNum": 0,
    "hideHardwareSpecs": false,
    "memoryGiB": 16,
    "name": "ml.m5.xlarge",
    "vcpuNum": 4
   },
   {
    "_defaultOrder": 6,
    "_isFastLaunch": false,
    "category": "General purpose",
    "gpuNum": 0,
    "hideHardwareSpecs": false,
    "memoryGiB": 32,
    "name": "ml.m5.2xlarge",
    "vcpuNum": 8
   },
   {
    "_defaultOrder": 7,
    "_isFastLaunch": false,
    "category": "General purpose",
    "gpuNum": 0,
    "hideHardwareSpecs": false,
    "memoryGiB": 64,
    "name": "ml.m5.4xlarge",
    "vcpuNum": 16
   },
   {
    "_defaultOrder": 8,
    "_isFastLaunch": false,
    "category": "General purpose",
    "gpuNum": 0,
    "hideHardwareSpecs": false,
    "memoryGiB": 128,
    "name": "ml.m5.8xlarge",
    "vcpuNum": 32
   },
   {
    "_defaultOrder": 9,
    "_isFastLaunch": false,
    "category": "General purpose",
    "gpuNum": 0,
    "hideHardwareSpecs": false,
    "memoryGiB": 192,
    "name": "ml.m5.12xlarge",
    "vcpuNum": 48
   },
   {
    "_defaultOrder": 10,
    "_isFastLaunch": false,
    "category": "General purpose",
    "gpuNum": 0,
    "hideHardwareSpecs": false,
    "memoryGiB": 256,
    "name": "ml.m5.16xlarge",
    "vcpuNum": 64
   },
   {
    "_defaultOrder": 11,
    "_isFastLaunch": false,
    "category": "General purpose",
    "gpuNum": 0,
    "hideHardwareSpecs": false,
    "memoryGiB": 384,
    "name": "ml.m5.24xlarge",
    "vcpuNum": 96
   },
   {
    "_defaultOrder": 12,
    "_isFastLaunch": false,
    "category": "General purpose",
    "gpuNum": 0,
    "hideHardwareSpecs": false,
    "memoryGiB": 8,
    "name": "ml.m5d.large",
    "vcpuNum": 2
   },
   {
    "_defaultOrder": 13,
    "_isFastLaunch": false,
    "category": "General purpose",
    "gpuNum": 0,
    "hideHardwareSpecs": false,
    "memoryGiB": 16,
    "name": "ml.m5d.xlarge",
    "vcpuNum": 4
   },
   {
    "_defaultOrder": 14,
    "_isFastLaunch": false,
    "category": "General purpose",
    "gpuNum": 0,
    "hideHardwareSpecs": false,
    "memoryGiB": 32,
    "name": "ml.m5d.2xlarge",
    "vcpuNum": 8
   },
   {
    "_defaultOrder": 15,
    "_isFastLaunch": false,
    "category": "General purpose",
    "gpuNum": 0,
    "hideHardwareSpecs": false,
    "memoryGiB": 64,
    "name": "ml.m5d.4xlarge",
    "vcpuNum": 16
   },
   {
    "_defaultOrder": 16,
    "_isFastLaunch": false,
    "category": "General purpose",
    "gpuNum": 0,
    "hideHardwareSpecs": false,
    "memoryGiB": 128,
    "name": "ml.m5d.8xlarge",
    "vcpuNum": 32
   },
   {
    "_defaultOrder": 17,
    "_isFastLaunch": false,
    "category": "General purpose",
    "gpuNum": 0,
    "hideHardwareSpecs": false,
    "memoryGiB": 192,
    "name": "ml.m5d.12xlarge",
    "vcpuNum": 48
   },
   {
    "_defaultOrder": 18,
    "_isFastLaunch": false,
    "category": "General purpose",
    "gpuNum": 0,
    "hideHardwareSpecs": false,
    "memoryGiB": 256,
    "name": "ml.m5d.16xlarge",
    "vcpuNum": 64
   },
   {
    "_defaultOrder": 19,
    "_isFastLaunch": false,
    "category": "General purpose",
    "gpuNum": 0,
    "hideHardwareSpecs": false,
    "memoryGiB": 384,
    "name": "ml.m5d.24xlarge",
    "vcpuNum": 96
   },
   {
    "_defaultOrder": 20,
    "_isFastLaunch": false,
    "category": "General purpose",
    "gpuNum": 0,
    "hideHardwareSpecs": true,
    "memoryGiB": 0,
    "name": "ml.geospatial.interactive",
    "supportedImageNames": [
     "sagemaker-geospatial-v1-0"
    ],
    "vcpuNum": 0
   },
   {
    "_defaultOrder": 21,
    "_isFastLaunch": true,
    "category": "Compute optimized",
    "gpuNum": 0,
    "hideHardwareSpecs": false,
    "memoryGiB": 4,
    "name": "ml.c5.large",
    "vcpuNum": 2
   },
   {
    "_defaultOrder": 22,
    "_isFastLaunch": false,
    "category": "Compute optimized",
    "gpuNum": 0,
    "hideHardwareSpecs": false,
    "memoryGiB": 8,
    "name": "ml.c5.xlarge",
    "vcpuNum": 4
   },
   {
    "_defaultOrder": 23,
    "_isFastLaunch": false,
    "category": "Compute optimized",
    "gpuNum": 0,
    "hideHardwareSpecs": false,
    "memoryGiB": 16,
    "name": "ml.c5.2xlarge",
    "vcpuNum": 8
   },
   {
    "_defaultOrder": 24,
    "_isFastLaunch": false,
    "category": "Compute optimized",
    "gpuNum": 0,
    "hideHardwareSpecs": false,
    "memoryGiB": 32,
    "name": "ml.c5.4xlarge",
    "vcpuNum": 16
   },
   {
    "_defaultOrder": 25,
    "_isFastLaunch": false,
    "category": "Compute optimized",
    "gpuNum": 0,
    "hideHardwareSpecs": false,
    "memoryGiB": 72,
    "name": "ml.c5.9xlarge",
    "vcpuNum": 36
   },
   {
    "_defaultOrder": 26,
    "_isFastLaunch": false,
    "category": "Compute optimized",
    "gpuNum": 0,
    "hideHardwareSpecs": false,
    "memoryGiB": 96,
    "name": "ml.c5.12xlarge",
    "vcpuNum": 48
   },
   {
    "_defaultOrder": 27,
    "_isFastLaunch": false,
    "category": "Compute optimized",
    "gpuNum": 0,
    "hideHardwareSpecs": false,
    "memoryGiB": 144,
    "name": "ml.c5.18xlarge",
    "vcpuNum": 72
   },
   {
    "_defaultOrder": 28,
    "_isFastLaunch": false,
    "category": "Compute optimized",
    "gpuNum": 0,
    "hideHardwareSpecs": false,
    "memoryGiB": 192,
    "name": "ml.c5.24xlarge",
    "vcpuNum": 96
   },
   {
    "_defaultOrder": 29,
    "_isFastLaunch": true,
    "category": "Accelerated computing",
    "gpuNum": 1,
    "hideHardwareSpecs": false,
    "memoryGiB": 16,
    "name": "ml.g4dn.xlarge",
    "vcpuNum": 4
   },
   {
    "_defaultOrder": 30,
    "_isFastLaunch": false,
    "category": "Accelerated computing",
    "gpuNum": 1,
    "hideHardwareSpecs": false,
    "memoryGiB": 32,
    "name": "ml.g4dn.2xlarge",
    "vcpuNum": 8
   },
   {
    "_defaultOrder": 31,
    "_isFastLaunch": false,
    "category": "Accelerated computing",
    "gpuNum": 1,
    "hideHardwareSpecs": false,
    "memoryGiB": 64,
    "name": "ml.g4dn.4xlarge",
    "vcpuNum": 16
   },
   {
    "_defaultOrder": 32,
    "_isFastLaunch": false,
    "category": "Accelerated computing",
    "gpuNum": 1,
    "hideHardwareSpecs": false,
    "memoryGiB": 128,
    "name": "ml.g4dn.8xlarge",
    "vcpuNum": 32
   },
   {
    "_defaultOrder": 33,
    "_isFastLaunch": false,
    "category": "Accelerated computing",
    "gpuNum": 4,
    "hideHardwareSpecs": false,
    "memoryGiB": 192,
    "name": "ml.g4dn.12xlarge",
    "vcpuNum": 48
   },
   {
    "_defaultOrder": 34,
    "_isFastLaunch": false,
    "category": "Accelerated computing",
    "gpuNum": 1,
    "hideHardwareSpecs": false,
    "memoryGiB": 256,
    "name": "ml.g4dn.16xlarge",
    "vcpuNum": 64
   },
   {
    "_defaultOrder": 35,
    "_isFastLaunch": false,
    "category": "Accelerated computing",
    "gpuNum": 1,
    "hideHardwareSpecs": false,
    "memoryGiB": 61,
    "name": "ml.p3.2xlarge",
    "vcpuNum": 8
   },
   {
    "_defaultOrder": 36,
    "_isFastLaunch": false,
    "category": "Accelerated computing",
    "gpuNum": 4,
    "hideHardwareSpecs": false,
    "memoryGiB": 244,
    "name": "ml.p3.8xlarge",
    "vcpuNum": 32
   },
   {
    "_defaultOrder": 37,
    "_isFastLaunch": false,
    "category": "Accelerated computing",
    "gpuNum": 8,
    "hideHardwareSpecs": false,
    "memoryGiB": 488,
    "name": "ml.p3.16xlarge",
    "vcpuNum": 64
   },
   {
    "_defaultOrder": 38,
    "_isFastLaunch": false,
    "category": "Accelerated computing",
    "gpuNum": 8,
    "hideHardwareSpecs": false,
    "memoryGiB": 768,
    "name": "ml.p3dn.24xlarge",
    "vcpuNum": 96
   },
   {
    "_defaultOrder": 39,
    "_isFastLaunch": false,
    "category": "Memory Optimized",
    "gpuNum": 0,
    "hideHardwareSpecs": false,
    "memoryGiB": 16,
    "name": "ml.r5.large",
    "vcpuNum": 2
   },
   {
    "_defaultOrder": 40,
    "_isFastLaunch": false,
    "category": "Memory Optimized",
    "gpuNum": 0,
    "hideHardwareSpecs": false,
    "memoryGiB": 32,
    "name": "ml.r5.xlarge",
    "vcpuNum": 4
   },
   {
    "_defaultOrder": 41,
    "_isFastLaunch": false,
    "category": "Memory Optimized",
    "gpuNum": 0,
    "hideHardwareSpecs": false,
    "memoryGiB": 64,
    "name": "ml.r5.2xlarge",
    "vcpuNum": 8
   },
   {
    "_defaultOrder": 42,
    "_isFastLaunch": false,
    "category": "Memory Optimized",
    "gpuNum": 0,
    "hideHardwareSpecs": false,
    "memoryGiB": 128,
    "name": "ml.r5.4xlarge",
    "vcpuNum": 16
   },
   {
    "_defaultOrder": 43,
    "_isFastLaunch": false,
    "category": "Memory Optimized",
    "gpuNum": 0,
    "hideHardwareSpecs": false,
    "memoryGiB": 256,
    "name": "ml.r5.8xlarge",
    "vcpuNum": 32
   },
   {
    "_defaultOrder": 44,
    "_isFastLaunch": false,
    "category": "Memory Optimized",
    "gpuNum": 0,
    "hideHardwareSpecs": false,
    "memoryGiB": 384,
    "name": "ml.r5.12xlarge",
    "vcpuNum": 48
   },
   {
    "_defaultOrder": 45,
    "_isFastLaunch": false,
    "category": "Memory Optimized",
    "gpuNum": 0,
    "hideHardwareSpecs": false,
    "memoryGiB": 512,
    "name": "ml.r5.16xlarge",
    "vcpuNum": 64
   },
   {
    "_defaultOrder": 46,
    "_isFastLaunch": false,
    "category": "Memory Optimized",
    "gpuNum": 0,
    "hideHardwareSpecs": false,
    "memoryGiB": 768,
    "name": "ml.r5.24xlarge",
    "vcpuNum": 96
   },
   {
    "_defaultOrder": 47,
    "_isFastLaunch": false,
    "category": "Accelerated computing",
    "gpuNum": 1,
    "hideHardwareSpecs": false,
    "memoryGiB": 16,
    "name": "ml.g5.xlarge",
    "vcpuNum": 4
   },
   {
    "_defaultOrder": 48,
    "_isFastLaunch": false,
    "category": "Accelerated computing",
    "gpuNum": 1,
    "hideHardwareSpecs": false,
    "memoryGiB": 32,
    "name": "ml.g5.2xlarge",
    "vcpuNum": 8
   },
   {
    "_defaultOrder": 49,
    "_isFastLaunch": false,
    "category": "Accelerated computing",
    "gpuNum": 1,
    "hideHardwareSpecs": false,
    "memoryGiB": 64,
    "name": "ml.g5.4xlarge",
    "vcpuNum": 16
   },
   {
    "_defaultOrder": 50,
    "_isFastLaunch": false,
    "category": "Accelerated computing",
    "gpuNum": 1,
    "hideHardwareSpecs": false,
    "memoryGiB": 128,
    "name": "ml.g5.8xlarge",
    "vcpuNum": 32
   },
   {
    "_defaultOrder": 51,
    "_isFastLaunch": false,
    "category": "Accelerated computing",
    "gpuNum": 1,
    "hideHardwareSpecs": false,
    "memoryGiB": 256,
    "name": "ml.g5.16xlarge",
    "vcpuNum": 64
   },
   {
    "_defaultOrder": 52,
    "_isFastLaunch": false,
    "category": "Accelerated computing",
    "gpuNum": 4,
    "hideHardwareSpecs": false,
    "memoryGiB": 192,
    "name": "ml.g5.12xlarge",
    "vcpuNum": 48
   },
   {
    "_defaultOrder": 53,
    "_isFastLaunch": false,
    "category": "Accelerated computing",
    "gpuNum": 4,
    "hideHardwareSpecs": false,
    "memoryGiB": 384,
    "name": "ml.g5.24xlarge",
    "vcpuNum": 96
   },
   {
    "_defaultOrder": 54,
    "_isFastLaunch": false,
    "category": "Accelerated computing",
    "gpuNum": 8,
    "hideHardwareSpecs": false,
    "memoryGiB": 768,
    "name": "ml.g5.48xlarge",
    "vcpuNum": 192
   },
   {
    "_defaultOrder": 55,
    "_isFastLaunch": false,
    "category": "Accelerated computing",
    "gpuNum": 8,
    "hideHardwareSpecs": false,
    "memoryGiB": 1152,
    "name": "ml.p4d.24xlarge",
    "vcpuNum": 96
   },
   {
    "_defaultOrder": 56,
    "_isFastLaunch": false,
    "category": "Accelerated computing",
    "gpuNum": 8,
    "hideHardwareSpecs": false,
    "memoryGiB": 1152,
    "name": "ml.p4de.24xlarge",
    "vcpuNum": 96
   },
   {
    "_defaultOrder": 57,
    "_isFastLaunch": false,
    "category": "Accelerated computing",
    "gpuNum": 0,
    "hideHardwareSpecs": false,
    "memoryGiB": 32,
    "name": "ml.trn1.2xlarge",
    "vcpuNum": 8
   },
   {
    "_defaultOrder": 58,
    "_isFastLaunch": false,
    "category": "Accelerated computing",
    "gpuNum": 0,
    "hideHardwareSpecs": false,
    "memoryGiB": 512,
    "name": "ml.trn1.32xlarge",
    "vcpuNum": 128
   },
   {
    "_defaultOrder": 59,
    "_isFastLaunch": false,
    "category": "Accelerated computing",
    "gpuNum": 0,
    "hideHardwareSpecs": false,
    "memoryGiB": 512,
    "name": "ml.trn1n.32xlarge",
    "vcpuNum": 128
   }
  ],
  "instance_type": "ml.t3.medium",
  "kernelspec": {
   "display_name": "Python 3 (Data Science 2.0)",
   "language": "python",
   "name": "python3__SAGEMAKER_INTERNAL__arn:aws:sagemaker:us-east-1:081325390199:image/sagemaker-data-science-38"
  },
  "language_info": {
   "codemirror_mode": {
    "name": "ipython",
    "version": 3
   },
   "file_extension": ".py",
   "mimetype": "text/x-python",
   "name": "python",
   "nbconvert_exporter": "python",
   "pygments_lexer": "ipython3",
   "version": "3.8.18"
  }
 },
 "nbformat": 4,
 "nbformat_minor": 5
}
